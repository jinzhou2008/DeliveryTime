{
 "cells": [
  {
   "cell_type": "markdown",
   "metadata": {
    "application/vnd.databricks.v1+cell": {
     "inputWidgets": {},
     "nuid": "371e13e3-a13d-49b5-878f-8bee9aa40a6f",
     "showTitle": false,
     "title": ""
    }
   },
   "source": [
    "## Predict Delivery Time Using Machine Learning"
   ]
  },
  {
   "cell_type": "code",
   "execution_count": 1,
   "metadata": {
    "application/vnd.databricks.v1+cell": {
     "inputWidgets": {},
     "nuid": "cf6dbd82-8209-4dbd-b5f4-63def30429f6",
     "showTitle": false,
     "title": ""
    }
   },
   "outputs": [
    {
     "name": "stdout",
     "output_type": "stream",
     "text": [
      "1.0.5\n"
     ]
    }
   ],
   "source": [
    "import numpy as np\n",
    "import pandas as pd\n",
    "import os\n",
    "import time\n",
    "\n",
    "\n",
    "import matplotlib.pyplot as plt\n",
    "import seaborn as sn\n",
    "import plotly.express as px\n",
    "from mlxtend.plotting import scatterplotmatrix, heatmap\n",
    "\n",
    "from sklearn import datasets\n",
    "from sklearn.metrics import mean_absolute_error, mean_squared_error, r2_score\n",
    "from sklearn.pipeline import make_pipeline\n",
    "from sklearn.linear_model import LinearRegression, Lasso, Ridge, ElasticNet\n",
    "from sklearn.svm import SVR\n",
    "from sklearn.neighbors import KNeighborsRegressor\n",
    "from sklearn.tree import DecisionTreeRegressor\n",
    "from sklearn.ensemble import RandomForestRegressor, GradientBoostingRegressor, AdaBoostRegressor\n",
    "from sklearn.model_selection import train_test_split\n",
    "from sklearn.cluster import KMeans\n",
    "from sklearn.decomposition import PCA\n",
    "\n",
    "\n",
    "from sklearn import preprocessing\n",
    "from sklearn.preprocessing import StandardScaler, RobustScaler, LabelEncoder, OneHotEncoder\n",
    "from sklearn.compose import ColumnTransformer\n",
    "\n",
    "\n",
    "print(pd.__version__)\n",
    "pd.set_option('display.width', 160)  # default is 80\n",
    "#pd.set_option('display.max_colwidth', 30)\n",
    "\n",
    "\n",
    "pd.options.display.float_format = \"{:,.2f}\".format\n",
    "#pd.options.display.float_format = \"{:,.3g}\".format\n",
    "pd.set_option('max_columns', None)  # print all the columns\n",
    "# pd.reset_option('max_columns') # go back to the default value\n",
    "pd.set_option('display.max_columns', None)\n",
    "\n",
    "\n",
    "from IPython.core.interactiveshell import InteractiveShell\n",
    "InteractiveShell.ast_node_interactivity = \"all\" # default value is: 'last_expr'\n",
    "\n",
    "# suppress scientific notion in ndarrays\n",
    "np.set_printoptions(suppress=True,   formatter={\n",
    "                    'float_kind': '{:0.2f}'.format})\n",
    "\n"
   ]
  },
  {
   "cell_type": "markdown",
   "metadata": {
    "application/vnd.databricks.v1+cell": {
     "inputWidgets": {},
     "nuid": "6eeb15aa-c9cd-41f7-9093-16784cf57a34",
     "showTitle": false,
     "title": ""
    }
   },
   "source": [
    "## Data Description\n",
    "\n",
    "The file `historical_data.csv` contains a subset of deliveries received at DoorDash in early 2015 in a subset of the cities. Each row in this file corresponds to one unique delivery. Each column corresponds to a feature as explained below. Note all money (dollar) values given in the data are in cents and all time duration values given are in seconds \n",
    "The target value to predict here is the total seconds value between `created_at` and `actual_delivery_time`. The fields included in the dataset are:\n",
    "\n",
    "| Field | Description |\n",
    "|-------------:|-----:|\n",
    "|market_id|A city/region in which DoorDash operates, e.g., Los Angeles, given in the data as an id|\n",
    "|created_at|Timestamp in UTC when the order was submitted by the consumer to DoorDash|\n",
    "|actual_delivery_time|Timestamp in UTC when the order was delivered to the consumer|\n",
    "|store_id|An id representing the restaurant the order was submitted for|\n",
    "|subtotal|Total value of the order submitted (in cents)|\n",
    "|total_onshift_dashers|Number of available dashers who are within 10 miles of the store at the time of order creation |\n",
    "|total_busy_dashers|Subset of above `total_onshift_dashers` who are currently working on an order|\n",
    "|total_outstanding_orders|Number of orders within 10 miles of this order that are currently being processed|\n",
    "|estimated_store_to_consumer_driving_duration|Estimated travel time between store and consumer (in seconds)|\n",
    "|delivery_time (created from raw data)|Target variabel, total seconds value between `created_at` and `actual_delivery_time` (in seconds)|\n",
    "`predict_data.csv`, which provides the new data that you must predict on using the model you build. This data was generated similar to the `historical_data.csv` and it contains the same columns as above, except for the following differences:\n",
    "  * This file does not contain `actual_delivery_time`, since that is unknown at the time of prediction\n",
    "  * This file contains `delivery_id` as additional field"
   ]
  },
  {
   "cell_type": "markdown",
   "metadata": {
    "application/vnd.databricks.v1+cell": {
     "inputWidgets": {},
     "nuid": "676af651-6f55-4396-bfdb-de994c500fc1",
     "showTitle": false,
     "title": ""
    }
   },
   "source": [
    "## Load The Data \n",
    "\n",
    "Define the targe variable --  total delivery duration seconds, i.e., the time from\n",
    "* Start: the time consumer submits the order (`created_at`) to\n",
    "* End: when the order will be delivered to the consumer (`actual_delivery_time`)\n",
    "\n",
    "Note that there are missing values in both features and target."
   ]
  },
  {
   "cell_type": "code",
   "execution_count": 2,
   "metadata": {},
   "outputs": [
    {
     "data": {
      "text/plain": [
       "'C:\\\\jimzh_work\\\\Employment\\\\Job2022\\\\doordash'"
      ]
     },
     "execution_count": 2,
     "metadata": {},
     "output_type": "execute_result"
    }
   ],
   "source": [
    "pwd"
   ]
  },
  {
   "cell_type": "code",
   "execution_count": 3,
   "metadata": {
    "application/vnd.databricks.v1+cell": {
     "inputWidgets": {},
     "nuid": "0ec09584-a1d6-4c10-9452-d695622fb78e",
     "showTitle": false,
     "title": ""
    }
   },
   "outputs": [
    {
     "name": "stdout",
     "output_type": "stream",
     "text": [
      "market_id                                         987\n",
      "created_at                                          0\n",
      "actual_delivery_time                                7\n",
      "store_id                                            0\n",
      "subtotal                                            0\n",
      "total_onshift_dashers                           16262\n",
      "total_busy_dashers                              16262\n",
      "total_outstanding_orders                        16262\n",
      "estimated_store_to_consumer_driving_duration      526\n",
      "delivery_time                                       7\n",
      "dtype: int64\n",
      "<class 'pandas.core.frame.DataFrame'>\n",
      "RangeIndex: 197428 entries, 0 to 197427\n",
      "Data columns (total 10 columns):\n",
      " #   Column                                        Non-Null Count   Dtype         \n",
      "---  ------                                        --------------   -----         \n",
      " 0   market_id                                     196441 non-null  float64       \n",
      " 1   created_at                                    197428 non-null  datetime64[ns]\n",
      " 2   actual_delivery_time                          197421 non-null  datetime64[ns]\n",
      " 3   store_id                                      197428 non-null  int64         \n",
      " 4   subtotal                                      197428 non-null  int64         \n",
      " 5   total_onshift_dashers                         181166 non-null  float64       \n",
      " 6   total_busy_dashers                            181166 non-null  float64       \n",
      " 7   total_outstanding_orders                      181166 non-null  float64       \n",
      " 8   estimated_store_to_consumer_driving_duration  196902 non-null  float64       \n",
      " 9   delivery_time                                 197421 non-null  float64       \n",
      "dtypes: datetime64[ns](2), float64(6), int64(2)\n",
      "memory usage: 15.1 MB\n",
      "None\n"
     ]
    },
    {
     "data": {
      "text/html": [
       "<div>\n",
       "<style scoped>\n",
       "    .dataframe tbody tr th:only-of-type {\n",
       "        vertical-align: middle;\n",
       "    }\n",
       "\n",
       "    .dataframe tbody tr th {\n",
       "        vertical-align: top;\n",
       "    }\n",
       "\n",
       "    .dataframe thead th {\n",
       "        text-align: right;\n",
       "    }\n",
       "</style>\n",
       "<table border=\"1\" class=\"dataframe\">\n",
       "  <thead>\n",
       "    <tr style=\"text-align: right;\">\n",
       "      <th></th>\n",
       "      <th>count</th>\n",
       "      <th>mean</th>\n",
       "      <th>std</th>\n",
       "      <th>min</th>\n",
       "      <th>25%</th>\n",
       "      <th>50%</th>\n",
       "      <th>75%</th>\n",
       "      <th>max</th>\n",
       "    </tr>\n",
       "  </thead>\n",
       "  <tbody>\n",
       "    <tr>\n",
       "      <th>market_id</th>\n",
       "      <td>196,441.00</td>\n",
       "      <td>2.98</td>\n",
       "      <td>1.52</td>\n",
       "      <td>1.00</td>\n",
       "      <td>2.00</td>\n",
       "      <td>3.00</td>\n",
       "      <td>4.00</td>\n",
       "      <td>6.00</td>\n",
       "    </tr>\n",
       "    <tr>\n",
       "      <th>store_id</th>\n",
       "      <td>197,428.00</td>\n",
       "      <td>3,530.51</td>\n",
       "      <td>2,053.50</td>\n",
       "      <td>1.00</td>\n",
       "      <td>1,686.00</td>\n",
       "      <td>3,592.00</td>\n",
       "      <td>5,299.00</td>\n",
       "      <td>6,987.00</td>\n",
       "    </tr>\n",
       "    <tr>\n",
       "      <th>subtotal</th>\n",
       "      <td>197,428.00</td>\n",
       "      <td>2,682.33</td>\n",
       "      <td>1,823.09</td>\n",
       "      <td>0.00</td>\n",
       "      <td>1,400.00</td>\n",
       "      <td>2,200.00</td>\n",
       "      <td>3,395.00</td>\n",
       "      <td>27,100.00</td>\n",
       "    </tr>\n",
       "    <tr>\n",
       "      <th>total_onshift_dashers</th>\n",
       "      <td>181,166.00</td>\n",
       "      <td>44.81</td>\n",
       "      <td>34.53</td>\n",
       "      <td>-4.00</td>\n",
       "      <td>17.00</td>\n",
       "      <td>37.00</td>\n",
       "      <td>65.00</td>\n",
       "      <td>171.00</td>\n",
       "    </tr>\n",
       "    <tr>\n",
       "      <th>total_busy_dashers</th>\n",
       "      <td>181,166.00</td>\n",
       "      <td>41.74</td>\n",
       "      <td>32.15</td>\n",
       "      <td>-5.00</td>\n",
       "      <td>15.00</td>\n",
       "      <td>34.00</td>\n",
       "      <td>62.00</td>\n",
       "      <td>154.00</td>\n",
       "    </tr>\n",
       "    <tr>\n",
       "      <th>total_outstanding_orders</th>\n",
       "      <td>181,166.00</td>\n",
       "      <td>58.05</td>\n",
       "      <td>52.66</td>\n",
       "      <td>-6.00</td>\n",
       "      <td>17.00</td>\n",
       "      <td>41.00</td>\n",
       "      <td>85.00</td>\n",
       "      <td>285.00</td>\n",
       "    </tr>\n",
       "    <tr>\n",
       "      <th>estimated_store_to_consumer_driving_duration</th>\n",
       "      <td>196,902.00</td>\n",
       "      <td>545.36</td>\n",
       "      <td>219.35</td>\n",
       "      <td>0.00</td>\n",
       "      <td>382.00</td>\n",
       "      <td>544.00</td>\n",
       "      <td>702.00</td>\n",
       "      <td>2,088.00</td>\n",
       "    </tr>\n",
       "    <tr>\n",
       "      <th>delivery_time</th>\n",
       "      <td>197,421.00</td>\n",
       "      <td>2,908.26</td>\n",
       "      <td>19,229.61</td>\n",
       "      <td>101.00</td>\n",
       "      <td>2,104.00</td>\n",
       "      <td>2,660.00</td>\n",
       "      <td>3,381.00</td>\n",
       "      <td>8,516,859.00</td>\n",
       "    </tr>\n",
       "  </tbody>\n",
       "</table>\n",
       "</div>"
      ],
      "text/plain": [
       "                                                  count     mean       std    min      25%      50%      75%          max\n",
       "market_id                                    196,441.00     2.98      1.52   1.00     2.00     3.00     4.00         6.00\n",
       "store_id                                     197,428.00 3,530.51  2,053.50   1.00 1,686.00 3,592.00 5,299.00     6,987.00\n",
       "subtotal                                     197,428.00 2,682.33  1,823.09   0.00 1,400.00 2,200.00 3,395.00    27,100.00\n",
       "total_onshift_dashers                        181,166.00    44.81     34.53  -4.00    17.00    37.00    65.00       171.00\n",
       "total_busy_dashers                           181,166.00    41.74     32.15  -5.00    15.00    34.00    62.00       154.00\n",
       "total_outstanding_orders                     181,166.00    58.05     52.66  -6.00    17.00    41.00    85.00       285.00\n",
       "estimated_store_to_consumer_driving_duration 196,902.00   545.36    219.35   0.00   382.00   544.00   702.00     2,088.00\n",
       "delivery_time                                197,421.00 2,908.26 19,229.61 101.00 2,104.00 2,660.00 3,381.00 8,516,859.00"
      ]
     },
     "execution_count": 3,
     "metadata": {},
     "output_type": "execute_result"
    }
   ],
   "source": [
    "\n",
    "date_cols = ['created_at',  'actual_delivery_time']\n",
    "#df=pd.read_csv(\"file:/dbfs/FileStore/tables/historical_data.csv\", parse_dates=date_cols)\n",
    "df=pd.read_csv(\"historical_data.csv\", parse_dates=date_cols)\n",
    "\n",
    "date_cols = ['created_at']\n",
    "#df2=pd.read_csv(\"file:/dbfs/FileStore/tables/predict_data.csv\", parse_dates=date_cols)\n",
    "df2=pd.read_csv(\"predict_data.csv\", parse_dates=date_cols)\n",
    "\n",
    "df['delivery_time'] = (df['actual_delivery_time'] - df['created_at']) / np.timedelta64(1, 's')\n",
    "print(df.apply(lambda x: np.sum(pd.isna(x))))  #df.isnull().sum()\n",
    "print(df.info())\n",
    "df.describe().T\n"
   ]
  },
  {
   "cell_type": "code",
   "execution_count": 4,
   "metadata": {
    "application/vnd.databricks.v1+cell": {
     "inputWidgets": {},
     "nuid": "d81aefa0-4b8f-485f-ab65-ad842c43f8fb",
     "showTitle": false,
     "title": ""
    }
   },
   "outputs": [
    {
     "name": "stdout",
     "output_type": "stream",
     "text": [
      "market_id                                        250\n",
      "created_at                                         0\n",
      "store_id                                           0\n",
      "subtotal                                           0\n",
      "total_onshift_dashers                           4633\n",
      "total_busy_dashers                              4633\n",
      "total_outstanding_orders                        4633\n",
      "estimated_store_to_consumer_driving_duration      11\n",
      "delivery_id                                        0\n",
      "dtype: int64\n"
     ]
    },
    {
     "data": {
      "text/plain": [
       "market_id\n",
       "1.00    38037\n",
       "2.00    55058\n",
       "3.00    23297\n",
       "4.00    47599\n",
       "5.00    18000\n",
       "6.00    14450\n",
       "dtype: int64"
      ]
     },
     "execution_count": 4,
     "metadata": {},
     "output_type": "execute_result"
    },
    {
     "data": {
      "text/plain": [
       "market_id\n",
       "1.00     9819\n",
       "2.00    15536\n",
       "3.00     6233\n",
       "4.00    13186\n",
       "5.00     5564\n",
       "6.00     4190\n",
       "dtype: int64"
      ]
     },
     "execution_count": 4,
     "metadata": {},
     "output_type": "execute_result"
    },
    {
     "name": "stdout",
     "output_type": "stream",
     "text": [
      "1.00   0.19\n",
      "2.00   0.28\n",
      "3.00   0.12\n",
      "4.00   0.24\n",
      "5.00   0.09\n",
      "6.00   0.07\n",
      "Name: market_id, dtype: float64\n"
     ]
    },
    {
     "data": {
      "text/plain": [
       "1.00   0.18\n",
       "2.00   0.28\n",
       "3.00   0.11\n",
       "4.00   0.24\n",
       "5.00   0.10\n",
       "6.00   0.08\n",
       "Name: market_id, dtype: float64"
      ]
     },
     "execution_count": 4,
     "metadata": {},
     "output_type": "execute_result"
    }
   ],
   "source": [
    "print(df2.apply(lambda x: np.sum(pd.isna(x))))\n",
    "df.groupby(['market_id']).size()\n",
    "df2.groupby(['market_id']).size()\n",
    "print(df['market_id'].value_counts(normalize=True).sort_index(ascending=True))\n",
    "df2['market_id'].value_counts(normalize=True).sort_index(ascending=True)"
   ]
  },
  {
   "cell_type": "code",
   "execution_count": 5,
   "metadata": {
    "application/vnd.databricks.v1+cell": {
     "inputWidgets": {},
     "nuid": "50661398-6c29-4a53-afbf-133074c09c41",
     "showTitle": false,
     "title": ""
    }
   },
   "outputs": [
    {
     "name": "stdout",
     "output_type": "stream",
     "text": [
      "                                                  count     mean       std    min      25%      50%      75%          max\n",
      "market_id                                    196,441.00     2.98      1.52   1.00     2.00     3.00     4.00         6.00\n",
      "store_id                                     197,428.00 3,530.51  2,053.50   1.00 1,686.00 3,592.00 5,299.00     6,987.00\n",
      "subtotal                                     197,428.00 2,682.33  1,823.09   0.00 1,400.00 2,200.00 3,395.00    27,100.00\n",
      "total_onshift_dashers                        181,166.00    44.81     34.53  -4.00    17.00    37.00    65.00       171.00\n",
      "total_busy_dashers                           181,166.00    41.74     32.15  -5.00    15.00    34.00    62.00       154.00\n",
      "total_outstanding_orders                     181,166.00    58.05     52.66  -6.00    17.00    41.00    85.00       285.00\n",
      "estimated_store_to_consumer_driving_duration 196,902.00   545.36    219.35   0.00   382.00   544.00   702.00     2,088.00\n",
      "delivery_time                                197,421.00 2,908.26 19,229.61 101.00 2,104.00 2,660.00 3,381.00 8,516,859.00\n",
      "market_id                                         987\n",
      "created_at                                          0\n",
      "actual_delivery_time                                7\n",
      "store_id                                            0\n",
      "subtotal                                            0\n",
      "total_onshift_dashers                           16262\n",
      "total_busy_dashers                              16262\n",
      "total_outstanding_orders                        16262\n",
      "estimated_store_to_consumer_driving_duration      526\n",
      "delivery_time                                       7\n",
      "dtype: int64\n"
     ]
    },
    {
     "ename": "TypeError",
     "evalue": "unhashable type: 'numpy.ndarray'",
     "output_type": "error",
     "traceback": [
      "\u001b[1;31m---------------------------------------------------------------------------\u001b[0m",
      "\u001b[1;31mTypeError\u001b[0m                                 Traceback (most recent call last)",
      "\u001b[1;32m~\\AppData\\Local\\Temp/ipykernel_10036/1737378160.py\u001b[0m in \u001b[0;36m<module>\u001b[1;34m\u001b[0m\n\u001b[0;32m      1\u001b[0m \u001b[0mprint\u001b[0m\u001b[1;33m(\u001b[0m\u001b[0mdf\u001b[0m\u001b[1;33m.\u001b[0m\u001b[0mdescribe\u001b[0m\u001b[1;33m(\u001b[0m\u001b[1;33m)\u001b[0m\u001b[1;33m.\u001b[0m\u001b[0mT\u001b[0m\u001b[1;33m)\u001b[0m\u001b[1;33m\u001b[0m\u001b[1;33m\u001b[0m\u001b[0m\n\u001b[0;32m      2\u001b[0m \u001b[0mprint\u001b[0m\u001b[1;33m(\u001b[0m\u001b[0mdf\u001b[0m\u001b[1;33m.\u001b[0m\u001b[0mapply\u001b[0m\u001b[1;33m(\u001b[0m\u001b[1;32mlambda\u001b[0m \u001b[0mx\u001b[0m\u001b[1;33m:\u001b[0m \u001b[0mnp\u001b[0m\u001b[1;33m.\u001b[0m\u001b[0msum\u001b[0m\u001b[1;33m(\u001b[0m\u001b[0mpd\u001b[0m\u001b[1;33m.\u001b[0m\u001b[0misna\u001b[0m\u001b[1;33m(\u001b[0m\u001b[0mx\u001b[0m\u001b[1;33m)\u001b[0m\u001b[1;33m)\u001b[0m\u001b[1;33m)\u001b[0m\u001b[1;33m)\u001b[0m\u001b[1;33m\u001b[0m\u001b[1;33m\u001b[0m\u001b[0m\n\u001b[1;32m----> 3\u001b[1;33m \u001b[0mdf\u001b[0m\u001b[1;33m.\u001b[0m\u001b[0mquery\u001b[0m\u001b[1;33m(\u001b[0m\u001b[1;34m'delivery_time>1e5  or delivery_time.isnull()'\u001b[0m\u001b[1;33m)\u001b[0m\u001b[1;33m\u001b[0m\u001b[1;33m\u001b[0m\u001b[0m\n\u001b[0m",
      "\u001b[1;32mC:\\ProgramData\\Anaconda3\\lib\\site-packages\\pandas\\core\\frame.py\u001b[0m in \u001b[0;36mquery\u001b[1;34m(self, expr, inplace, **kwargs)\u001b[0m\n\u001b[0;32m   4053\u001b[0m         \u001b[0mkwargs\u001b[0m\u001b[1;33m[\u001b[0m\u001b[1;34m\"level\"\u001b[0m\u001b[1;33m]\u001b[0m \u001b[1;33m=\u001b[0m \u001b[0mkwargs\u001b[0m\u001b[1;33m.\u001b[0m\u001b[0mpop\u001b[0m\u001b[1;33m(\u001b[0m\u001b[1;34m\"level\"\u001b[0m\u001b[1;33m,\u001b[0m \u001b[1;36m0\u001b[0m\u001b[1;33m)\u001b[0m \u001b[1;33m+\u001b[0m \u001b[1;36m1\u001b[0m\u001b[1;33m\u001b[0m\u001b[1;33m\u001b[0m\u001b[0m\n\u001b[0;32m   4054\u001b[0m         \u001b[0mkwargs\u001b[0m\u001b[1;33m[\u001b[0m\u001b[1;34m\"target\"\u001b[0m\u001b[1;33m]\u001b[0m \u001b[1;33m=\u001b[0m \u001b[1;32mNone\u001b[0m\u001b[1;33m\u001b[0m\u001b[1;33m\u001b[0m\u001b[0m\n\u001b[1;32m-> 4055\u001b[1;33m         \u001b[0mres\u001b[0m \u001b[1;33m=\u001b[0m \u001b[0mself\u001b[0m\u001b[1;33m.\u001b[0m\u001b[0meval\u001b[0m\u001b[1;33m(\u001b[0m\u001b[0mexpr\u001b[0m\u001b[1;33m,\u001b[0m \u001b[1;33m**\u001b[0m\u001b[0mkwargs\u001b[0m\u001b[1;33m)\u001b[0m\u001b[1;33m\u001b[0m\u001b[1;33m\u001b[0m\u001b[0m\n\u001b[0m\u001b[0;32m   4056\u001b[0m \u001b[1;33m\u001b[0m\u001b[0m\n\u001b[0;32m   4057\u001b[0m         \u001b[1;32mtry\u001b[0m\u001b[1;33m:\u001b[0m\u001b[1;33m\u001b[0m\u001b[1;33m\u001b[0m\u001b[0m\n",
      "\u001b[1;32mC:\\ProgramData\\Anaconda3\\lib\\site-packages\\pandas\\core\\frame.py\u001b[0m in \u001b[0;36meval\u001b[1;34m(self, expr, inplace, **kwargs)\u001b[0m\n\u001b[0;32m   4184\u001b[0m         \u001b[0mkwargs\u001b[0m\u001b[1;33m[\u001b[0m\u001b[1;34m\"resolvers\"\u001b[0m\u001b[1;33m]\u001b[0m \u001b[1;33m=\u001b[0m \u001b[0mkwargs\u001b[0m\u001b[1;33m.\u001b[0m\u001b[0mget\u001b[0m\u001b[1;33m(\u001b[0m\u001b[1;34m\"resolvers\"\u001b[0m\u001b[1;33m,\u001b[0m \u001b[1;33m(\u001b[0m\u001b[1;33m)\u001b[0m\u001b[1;33m)\u001b[0m \u001b[1;33m+\u001b[0m \u001b[0mtuple\u001b[0m\u001b[1;33m(\u001b[0m\u001b[0mresolvers\u001b[0m\u001b[1;33m)\u001b[0m\u001b[1;33m\u001b[0m\u001b[1;33m\u001b[0m\u001b[0m\n\u001b[0;32m   4185\u001b[0m \u001b[1;33m\u001b[0m\u001b[0m\n\u001b[1;32m-> 4186\u001b[1;33m         \u001b[1;32mreturn\u001b[0m \u001b[0m_eval\u001b[0m\u001b[1;33m(\u001b[0m\u001b[0mexpr\u001b[0m\u001b[1;33m,\u001b[0m \u001b[0minplace\u001b[0m\u001b[1;33m=\u001b[0m\u001b[0minplace\u001b[0m\u001b[1;33m,\u001b[0m \u001b[1;33m**\u001b[0m\u001b[0mkwargs\u001b[0m\u001b[1;33m)\u001b[0m\u001b[1;33m\u001b[0m\u001b[1;33m\u001b[0m\u001b[0m\n\u001b[0m\u001b[0;32m   4187\u001b[0m \u001b[1;33m\u001b[0m\u001b[0m\n\u001b[0;32m   4188\u001b[0m     \u001b[1;32mdef\u001b[0m \u001b[0mselect_dtypes\u001b[0m\u001b[1;33m(\u001b[0m\u001b[0mself\u001b[0m\u001b[1;33m,\u001b[0m \u001b[0minclude\u001b[0m\u001b[1;33m=\u001b[0m\u001b[1;32mNone\u001b[0m\u001b[1;33m,\u001b[0m \u001b[0mexclude\u001b[0m\u001b[1;33m=\u001b[0m\u001b[1;32mNone\u001b[0m\u001b[1;33m)\u001b[0m \u001b[1;33m->\u001b[0m \u001b[0mDataFrame\u001b[0m\u001b[1;33m:\u001b[0m\u001b[1;33m\u001b[0m\u001b[1;33m\u001b[0m\u001b[0m\n",
      "\u001b[1;32mC:\\ProgramData\\Anaconda3\\lib\\site-packages\\pandas\\core\\computation\\eval.py\u001b[0m in \u001b[0;36meval\u001b[1;34m(expr, parser, engine, truediv, local_dict, global_dict, resolvers, level, target, inplace)\u001b[0m\n\u001b[0;32m    351\u001b[0m         \u001b[0meng\u001b[0m \u001b[1;33m=\u001b[0m \u001b[0mENGINES\u001b[0m\u001b[1;33m[\u001b[0m\u001b[0mengine\u001b[0m\u001b[1;33m]\u001b[0m\u001b[1;33m\u001b[0m\u001b[1;33m\u001b[0m\u001b[0m\n\u001b[0;32m    352\u001b[0m         \u001b[0meng_inst\u001b[0m \u001b[1;33m=\u001b[0m \u001b[0meng\u001b[0m\u001b[1;33m(\u001b[0m\u001b[0mparsed_expr\u001b[0m\u001b[1;33m)\u001b[0m\u001b[1;33m\u001b[0m\u001b[1;33m\u001b[0m\u001b[0m\n\u001b[1;32m--> 353\u001b[1;33m         \u001b[0mret\u001b[0m \u001b[1;33m=\u001b[0m \u001b[0meng_inst\u001b[0m\u001b[1;33m.\u001b[0m\u001b[0mevaluate\u001b[0m\u001b[1;33m(\u001b[0m\u001b[1;33m)\u001b[0m\u001b[1;33m\u001b[0m\u001b[1;33m\u001b[0m\u001b[0m\n\u001b[0m\u001b[0;32m    354\u001b[0m \u001b[1;33m\u001b[0m\u001b[0m\n\u001b[0;32m    355\u001b[0m         \u001b[1;32mif\u001b[0m \u001b[0mparsed_expr\u001b[0m\u001b[1;33m.\u001b[0m\u001b[0massigner\u001b[0m \u001b[1;32mis\u001b[0m \u001b[1;32mNone\u001b[0m\u001b[1;33m:\u001b[0m\u001b[1;33m\u001b[0m\u001b[1;33m\u001b[0m\u001b[0m\n",
      "\u001b[1;32mC:\\ProgramData\\Anaconda3\\lib\\site-packages\\pandas\\core\\computation\\engines.py\u001b[0m in \u001b[0;36mevaluate\u001b[1;34m(self)\u001b[0m\n\u001b[0;32m     78\u001b[0m \u001b[1;33m\u001b[0m\u001b[0m\n\u001b[0;32m     79\u001b[0m         \u001b[1;31m# make sure no names in resolvers and locals/globals clash\u001b[0m\u001b[1;33m\u001b[0m\u001b[1;33m\u001b[0m\u001b[1;33m\u001b[0m\u001b[0m\n\u001b[1;32m---> 80\u001b[1;33m         \u001b[0mres\u001b[0m \u001b[1;33m=\u001b[0m \u001b[0mself\u001b[0m\u001b[1;33m.\u001b[0m\u001b[0m_evaluate\u001b[0m\u001b[1;33m(\u001b[0m\u001b[1;33m)\u001b[0m\u001b[1;33m\u001b[0m\u001b[1;33m\u001b[0m\u001b[0m\n\u001b[0m\u001b[0;32m     81\u001b[0m         return reconstruct_object(\n\u001b[0;32m     82\u001b[0m             \u001b[0mself\u001b[0m\u001b[1;33m.\u001b[0m\u001b[0mresult_type\u001b[0m\u001b[1;33m,\u001b[0m \u001b[0mres\u001b[0m\u001b[1;33m,\u001b[0m \u001b[0mself\u001b[0m\u001b[1;33m.\u001b[0m\u001b[0maligned_axes\u001b[0m\u001b[1;33m,\u001b[0m \u001b[0mself\u001b[0m\u001b[1;33m.\u001b[0m\u001b[0mexpr\u001b[0m\u001b[1;33m.\u001b[0m\u001b[0mterms\u001b[0m\u001b[1;33m.\u001b[0m\u001b[0mreturn_type\u001b[0m\u001b[1;33m\u001b[0m\u001b[1;33m\u001b[0m\u001b[0m\n",
      "\u001b[1;32mC:\\ProgramData\\Anaconda3\\lib\\site-packages\\pandas\\core\\computation\\engines.py\u001b[0m in \u001b[0;36m_evaluate\u001b[1;34m(self)\u001b[0m\n\u001b[0;32m    118\u001b[0m         \u001b[0menv\u001b[0m \u001b[1;33m=\u001b[0m \u001b[0mself\u001b[0m\u001b[1;33m.\u001b[0m\u001b[0mexpr\u001b[0m\u001b[1;33m.\u001b[0m\u001b[0menv\u001b[0m\u001b[1;33m\u001b[0m\u001b[1;33m\u001b[0m\u001b[0m\n\u001b[0;32m    119\u001b[0m         \u001b[0mscope\u001b[0m \u001b[1;33m=\u001b[0m \u001b[0menv\u001b[0m\u001b[1;33m.\u001b[0m\u001b[0mfull_scope\u001b[0m\u001b[1;33m\u001b[0m\u001b[1;33m\u001b[0m\u001b[0m\n\u001b[1;32m--> 120\u001b[1;33m         \u001b[0m_check_ne_builtin_clash\u001b[0m\u001b[1;33m(\u001b[0m\u001b[0mself\u001b[0m\u001b[1;33m.\u001b[0m\u001b[0mexpr\u001b[0m\u001b[1;33m)\u001b[0m\u001b[1;33m\u001b[0m\u001b[1;33m\u001b[0m\u001b[0m\n\u001b[0m\u001b[0;32m    121\u001b[0m         \u001b[1;32mreturn\u001b[0m \u001b[0mne\u001b[0m\u001b[1;33m.\u001b[0m\u001b[0mevaluate\u001b[0m\u001b[1;33m(\u001b[0m\u001b[0ms\u001b[0m\u001b[1;33m,\u001b[0m \u001b[0mlocal_dict\u001b[0m\u001b[1;33m=\u001b[0m\u001b[0mscope\u001b[0m\u001b[1;33m)\u001b[0m\u001b[1;33m\u001b[0m\u001b[1;33m\u001b[0m\u001b[0m\n\u001b[0;32m    122\u001b[0m \u001b[1;33m\u001b[0m\u001b[0m\n",
      "\u001b[1;32mC:\\ProgramData\\Anaconda3\\lib\\site-packages\\pandas\\core\\computation\\engines.py\u001b[0m in \u001b[0;36m_check_ne_builtin_clash\u001b[1;34m(expr)\u001b[0m\n\u001b[0;32m     34\u001b[0m         \u001b[0mTerms\u001b[0m \u001b[0mcan\u001b[0m \u001b[0mcontain\u001b[0m\u001b[1;33m\u001b[0m\u001b[1;33m\u001b[0m\u001b[0m\n\u001b[0;32m     35\u001b[0m     \"\"\"\n\u001b[1;32m---> 36\u001b[1;33m     \u001b[0mnames\u001b[0m \u001b[1;33m=\u001b[0m \u001b[0mexpr\u001b[0m\u001b[1;33m.\u001b[0m\u001b[0mnames\u001b[0m\u001b[1;33m\u001b[0m\u001b[1;33m\u001b[0m\u001b[0m\n\u001b[0m\u001b[0;32m     37\u001b[0m     \u001b[0moverlap\u001b[0m \u001b[1;33m=\u001b[0m \u001b[0mnames\u001b[0m \u001b[1;33m&\u001b[0m \u001b[0m_ne_builtins\u001b[0m\u001b[1;33m\u001b[0m\u001b[1;33m\u001b[0m\u001b[0m\n\u001b[0;32m     38\u001b[0m \u001b[1;33m\u001b[0m\u001b[0m\n",
      "\u001b[1;32mC:\\ProgramData\\Anaconda3\\lib\\site-packages\\pandas\\core\\computation\\expr.py\u001b[0m in \u001b[0;36mnames\u001b[1;34m(self)\u001b[0m\n\u001b[0;32m    832\u001b[0m         \u001b[1;32mif\u001b[0m \u001b[0mis_term\u001b[0m\u001b[1;33m(\u001b[0m\u001b[0mself\u001b[0m\u001b[1;33m.\u001b[0m\u001b[0mterms\u001b[0m\u001b[1;33m)\u001b[0m\u001b[1;33m:\u001b[0m\u001b[1;33m\u001b[0m\u001b[1;33m\u001b[0m\u001b[0m\n\u001b[0;32m    833\u001b[0m             \u001b[1;32mreturn\u001b[0m \u001b[0mfrozenset\u001b[0m\u001b[1;33m(\u001b[0m\u001b[1;33m[\u001b[0m\u001b[0mself\u001b[0m\u001b[1;33m.\u001b[0m\u001b[0mterms\u001b[0m\u001b[1;33m.\u001b[0m\u001b[0mname\u001b[0m\u001b[1;33m]\u001b[0m\u001b[1;33m)\u001b[0m\u001b[1;33m\u001b[0m\u001b[1;33m\u001b[0m\u001b[0m\n\u001b[1;32m--> 834\u001b[1;33m         \u001b[1;32mreturn\u001b[0m \u001b[0mfrozenset\u001b[0m\u001b[1;33m(\u001b[0m\u001b[0mterm\u001b[0m\u001b[1;33m.\u001b[0m\u001b[0mname\u001b[0m \u001b[1;32mfor\u001b[0m \u001b[0mterm\u001b[0m \u001b[1;32min\u001b[0m \u001b[0mcom\u001b[0m\u001b[1;33m.\u001b[0m\u001b[0mflatten\u001b[0m\u001b[1;33m(\u001b[0m\u001b[0mself\u001b[0m\u001b[1;33m.\u001b[0m\u001b[0mterms\u001b[0m\u001b[1;33m)\u001b[0m\u001b[1;33m)\u001b[0m\u001b[1;33m\u001b[0m\u001b[1;33m\u001b[0m\u001b[0m\n\u001b[0m\u001b[0;32m    835\u001b[0m \u001b[1;33m\u001b[0m\u001b[0m\n\u001b[0;32m    836\u001b[0m \u001b[1;33m\u001b[0m\u001b[0m\n",
      "\u001b[1;31mTypeError\u001b[0m: unhashable type: 'numpy.ndarray'"
     ]
    }
   ],
   "source": [
    "print(df.describe().T)\n",
    "print(df.apply(lambda x: np.sum(pd.isna(x))))  #df.isnull().sum()\n",
    "df.query('delivery_time>1e5  or delivery_time.isnull()')"
   ]
  },
  {
   "cell_type": "markdown",
   "metadata": {
    "application/vnd.databricks.v1+cell": {
     "inputWidgets": {},
     "nuid": "60a9bc7d-37a3-485c-a960-5c8eae74335a",
     "showTitle": false,
     "title": ""
    }
   },
   "source": [
    "| delivery time in seconds | delivery time in minutes |delivery time in hours|\n",
    "|-----:|-----:|-----:|\n",
    "|  60 | 1 | .|\n",
    "| 1800| 30 | 0.5|\n",
    "| 3600| 60 | 1|"
   ]
  },
  {
   "cell_type": "markdown",
   "metadata": {
    "application/vnd.databricks.v1+cell": {
     "inputWidgets": {},
     "nuid": "59f344ee-c64c-4a73-a048-7637e65a8e73",
     "showTitle": false,
     "title": ""
    }
   },
   "source": [
    "## Data Pre-Processing and Feature Engineering\n",
    "\n",
    "As dsiscussed above, 'delivery_time' greater than 1e5 seconds (27.8 hours) or missing are considered as outliers, we will drop these records.\n",
    "\n",
    "'market_id' with NA value with be filled with 0. In next step we will use OnehotEncoder to transform this varaible\n",
    "\n",
    "Other variables ()'total_onshift_dashers', 'total_busy_dashers', 'total_outstanding_orders', 'estimated_store_to_consumer_driving_duration') which have missing values will be filled with each individual mean value."
   ]
  },
  {
   "cell_type": "code",
   "execution_count": 6,
   "metadata": {
    "application/vnd.databricks.v1+cell": {
     "inputWidgets": {},
     "nuid": "d3161b60-643e-4259-8466-768332a0f839",
     "showTitle": false,
     "title": ""
    }
   },
   "outputs": [
    {
     "name": "stdout",
     "output_type": "stream",
     "text": [
      "<class 'pandas.core.frame.DataFrame'>\n",
      "Int64Index: 197418 entries, 0 to 197427\n",
      "Data columns (total 20 columns):\n",
      " #   Column                Non-Null Count   Dtype                     \n",
      "---  ------                --------------   -----                     \n",
      " 0   market_id             197418 non-null  float64                   \n",
      " 1   created_at            197418 non-null  datetime64[ns]            \n",
      " 2   actual_delivery_time  197418 non-null  datetime64[ns]            \n",
      " 3   store_id              197418 non-null  int64                     \n",
      " 4   subtotal              197418 non-null  int64                     \n",
      " 5   onshift_dashers       197418 non-null  float64                   \n",
      " 6   busy_dashers          197418 non-null  float64                   \n",
      " 7   orders                197418 non-null  float64                   \n",
      " 8   driving_duration      197418 non-null  float64                   \n",
      " 9   delivery_time         197418 non-null  float64                   \n",
      " 10  busy_dashers_pct      197418 non-null  float64                   \n",
      " 11  subtotal_log          197418 non-null  float64                   \n",
      " 12  driving_duration_log  197418 non-null  float64                   \n",
      " 13  delivery_time_log     197418 non-null  float64                   \n",
      " 14  delivery_time_sqrt    197418 non-null  float64                   \n",
      " 15  created_at_local      197418 non-null  datetime64[ns, US/Pacific]\n",
      " 16  hour                  197418 non-null  int64                     \n",
      " 17  dayofmonth            197418 non-null  int64                     \n",
      " 18  dayofweek             197418 non-null  int64                     \n",
      " 19  evening               197418 non-null  int32                     \n",
      "dtypes: datetime64[ns, US/Pacific](1), datetime64[ns](2), float64(11), int32(1), int64(5)\n",
      "memory usage: 30.9 MB\n",
      "None\n",
      "market_id               0\n",
      "created_at              0\n",
      "actual_delivery_time    0\n",
      "store_id                0\n",
      "subtotal                0\n",
      "onshift_dashers         0\n",
      "busy_dashers            0\n",
      "orders                  0\n",
      "driving_duration        0\n",
      "delivery_time           0\n",
      "busy_dashers_pct        0\n",
      "subtotal_log            0\n",
      "driving_duration_log    0\n",
      "delivery_time_log       0\n",
      "delivery_time_sqrt      0\n",
      "created_at_local        0\n",
      "hour                    0\n",
      "dayofmonth              0\n",
      "dayofweek               0\n",
      "evening                 0\n",
      "dtype: int64\n"
     ]
    },
    {
     "data": {
      "text/html": [
       "<div>\n",
       "<style scoped>\n",
       "    .dataframe tbody tr th:only-of-type {\n",
       "        vertical-align: middle;\n",
       "    }\n",
       "\n",
       "    .dataframe tbody tr th {\n",
       "        vertical-align: top;\n",
       "    }\n",
       "\n",
       "    .dataframe thead th {\n",
       "        text-align: right;\n",
       "    }\n",
       "</style>\n",
       "<table border=\"1\" class=\"dataframe\">\n",
       "  <thead>\n",
       "    <tr style=\"text-align: right;\">\n",
       "      <th></th>\n",
       "      <th>count</th>\n",
       "      <th>mean</th>\n",
       "      <th>std</th>\n",
       "      <th>min</th>\n",
       "      <th>25%</th>\n",
       "      <th>50%</th>\n",
       "      <th>75%</th>\n",
       "      <th>max</th>\n",
       "    </tr>\n",
       "  </thead>\n",
       "  <tbody>\n",
       "    <tr>\n",
       "      <th>market_id</th>\n",
       "      <td>197,418.00</td>\n",
       "      <td>2.96</td>\n",
       "      <td>1.54</td>\n",
       "      <td>0.00</td>\n",
       "      <td>2.00</td>\n",
       "      <td>3.00</td>\n",
       "      <td>4.00</td>\n",
       "      <td>6.00</td>\n",
       "    </tr>\n",
       "    <tr>\n",
       "      <th>store_id</th>\n",
       "      <td>197,418.00</td>\n",
       "      <td>3,530.56</td>\n",
       "      <td>2,053.50</td>\n",
       "      <td>1.00</td>\n",
       "      <td>1,686.00</td>\n",
       "      <td>3,592.00</td>\n",
       "      <td>5,299.00</td>\n",
       "      <td>6,987.00</td>\n",
       "    </tr>\n",
       "    <tr>\n",
       "      <th>subtotal</th>\n",
       "      <td>197,418.00</td>\n",
       "      <td>2,682.33</td>\n",
       "      <td>1,823.11</td>\n",
       "      <td>0.00</td>\n",
       "      <td>1,400.00</td>\n",
       "      <td>2,200.00</td>\n",
       "      <td>3,395.00</td>\n",
       "      <td>27,100.00</td>\n",
       "    </tr>\n",
       "    <tr>\n",
       "      <th>onshift_dashers</th>\n",
       "      <td>197,418.00</td>\n",
       "      <td>44.81</td>\n",
       "      <td>33.07</td>\n",
       "      <td>-4.00</td>\n",
       "      <td>19.00</td>\n",
       "      <td>41.00</td>\n",
       "      <td>62.00</td>\n",
       "      <td>171.00</td>\n",
       "    </tr>\n",
       "    <tr>\n",
       "      <th>busy_dashers</th>\n",
       "      <td>197,418.00</td>\n",
       "      <td>41.74</td>\n",
       "      <td>30.79</td>\n",
       "      <td>-5.00</td>\n",
       "      <td>17.00</td>\n",
       "      <td>39.00</td>\n",
       "      <td>59.00</td>\n",
       "      <td>154.00</td>\n",
       "    </tr>\n",
       "    <tr>\n",
       "      <th>orders</th>\n",
       "      <td>197,418.00</td>\n",
       "      <td>58.05</td>\n",
       "      <td>50.44</td>\n",
       "      <td>-6.00</td>\n",
       "      <td>19.00</td>\n",
       "      <td>47.00</td>\n",
       "      <td>80.00</td>\n",
       "      <td>285.00</td>\n",
       "    </tr>\n",
       "    <tr>\n",
       "      <th>driving_duration</th>\n",
       "      <td>197,418.00</td>\n",
       "      <td>545.36</td>\n",
       "      <td>219.06</td>\n",
       "      <td>0.00</td>\n",
       "      <td>383.00</td>\n",
       "      <td>544.00</td>\n",
       "      <td>702.00</td>\n",
       "      <td>2,088.00</td>\n",
       "    </tr>\n",
       "    <tr>\n",
       "      <th>delivery_time</th>\n",
       "      <td>197,418.00</td>\n",
       "      <td>2,861.58</td>\n",
       "      <td>1,164.09</td>\n",
       "      <td>101.00</td>\n",
       "      <td>2,104.00</td>\n",
       "      <td>2,660.00</td>\n",
       "      <td>3,381.00</td>\n",
       "      <td>57,032.00</td>\n",
       "    </tr>\n",
       "    <tr>\n",
       "      <th>busy_dashers_pct</th>\n",
       "      <td>197,418.00</td>\n",
       "      <td>0.93</td>\n",
       "      <td>0.41</td>\n",
       "      <td>-13.00</td>\n",
       "      <td>0.83</td>\n",
       "      <td>0.94</td>\n",
       "      <td>1.00</td>\n",
       "      <td>31.00</td>\n",
       "    </tr>\n",
       "    <tr>\n",
       "      <th>subtotal_log</th>\n",
       "      <td>197,418.00</td>\n",
       "      <td>3.34</td>\n",
       "      <td>0.30</td>\n",
       "      <td>-1.00</td>\n",
       "      <td>3.15</td>\n",
       "      <td>3.34</td>\n",
       "      <td>3.53</td>\n",
       "      <td>4.43</td>\n",
       "    </tr>\n",
       "    <tr>\n",
       "      <th>driving_duration_log</th>\n",
       "      <td>197,418.00</td>\n",
       "      <td>2.69</td>\n",
       "      <td>0.21</td>\n",
       "      <td>-1.00</td>\n",
       "      <td>2.58</td>\n",
       "      <td>2.74</td>\n",
       "      <td>2.85</td>\n",
       "      <td>3.32</td>\n",
       "    </tr>\n",
       "    <tr>\n",
       "      <th>delivery_time_log</th>\n",
       "      <td>197,418.00</td>\n",
       "      <td>3.43</td>\n",
       "      <td>0.16</td>\n",
       "      <td>2.00</td>\n",
       "      <td>3.32</td>\n",
       "      <td>3.42</td>\n",
       "      <td>3.53</td>\n",
       "      <td>4.76</td>\n",
       "    </tr>\n",
       "    <tr>\n",
       "      <th>delivery_time_sqrt</th>\n",
       "      <td>197,418.00</td>\n",
       "      <td>52.58</td>\n",
       "      <td>9.83</td>\n",
       "      <td>10.05</td>\n",
       "      <td>45.87</td>\n",
       "      <td>51.58</td>\n",
       "      <td>58.15</td>\n",
       "      <td>238.81</td>\n",
       "    </tr>\n",
       "    <tr>\n",
       "      <th>hour</th>\n",
       "      <td>197,418.00</td>\n",
       "      <td>16.11</td>\n",
       "      <td>3.31</td>\n",
       "      <td>0.00</td>\n",
       "      <td>13.00</td>\n",
       "      <td>17.00</td>\n",
       "      <td>19.00</td>\n",
       "      <td>23.00</td>\n",
       "    </tr>\n",
       "    <tr>\n",
       "      <th>dayofmonth</th>\n",
       "      <td>197,418.00</td>\n",
       "      <td>15.43</td>\n",
       "      <td>9.25</td>\n",
       "      <td>1.00</td>\n",
       "      <td>7.00</td>\n",
       "      <td>14.00</td>\n",
       "      <td>24.00</td>\n",
       "      <td>31.00</td>\n",
       "    </tr>\n",
       "    <tr>\n",
       "      <th>dayofweek</th>\n",
       "      <td>197,418.00</td>\n",
       "      <td>3.22</td>\n",
       "      <td>1.98</td>\n",
       "      <td>0.00</td>\n",
       "      <td>2.00</td>\n",
       "      <td>3.00</td>\n",
       "      <td>5.00</td>\n",
       "      <td>6.00</td>\n",
       "    </tr>\n",
       "    <tr>\n",
       "      <th>evening</th>\n",
       "      <td>197,418.00</td>\n",
       "      <td>0.69</td>\n",
       "      <td>0.46</td>\n",
       "      <td>0.00</td>\n",
       "      <td>0.00</td>\n",
       "      <td>1.00</td>\n",
       "      <td>1.00</td>\n",
       "      <td>1.00</td>\n",
       "    </tr>\n",
       "  </tbody>\n",
       "</table>\n",
       "</div>"
      ],
      "text/plain": [
       "                          count     mean      std    min      25%      50%      75%       max\n",
       "market_id            197,418.00     2.96     1.54   0.00     2.00     3.00     4.00      6.00\n",
       "store_id             197,418.00 3,530.56 2,053.50   1.00 1,686.00 3,592.00 5,299.00  6,987.00\n",
       "subtotal             197,418.00 2,682.33 1,823.11   0.00 1,400.00 2,200.00 3,395.00 27,100.00\n",
       "onshift_dashers      197,418.00    44.81    33.07  -4.00    19.00    41.00    62.00    171.00\n",
       "busy_dashers         197,418.00    41.74    30.79  -5.00    17.00    39.00    59.00    154.00\n",
       "orders               197,418.00    58.05    50.44  -6.00    19.00    47.00    80.00    285.00\n",
       "driving_duration     197,418.00   545.36   219.06   0.00   383.00   544.00   702.00  2,088.00\n",
       "delivery_time        197,418.00 2,861.58 1,164.09 101.00 2,104.00 2,660.00 3,381.00 57,032.00\n",
       "busy_dashers_pct     197,418.00     0.93     0.41 -13.00     0.83     0.94     1.00     31.00\n",
       "subtotal_log         197,418.00     3.34     0.30  -1.00     3.15     3.34     3.53      4.43\n",
       "driving_duration_log 197,418.00     2.69     0.21  -1.00     2.58     2.74     2.85      3.32\n",
       "delivery_time_log    197,418.00     3.43     0.16   2.00     3.32     3.42     3.53      4.76\n",
       "delivery_time_sqrt   197,418.00    52.58     9.83  10.05    45.87    51.58    58.15    238.81\n",
       "hour                 197,418.00    16.11     3.31   0.00    13.00    17.00    19.00     23.00\n",
       "dayofmonth           197,418.00    15.43     9.25   1.00     7.00    14.00    24.00     31.00\n",
       "dayofweek            197,418.00     3.22     1.98   0.00     2.00     3.00     5.00      6.00\n",
       "evening              197,418.00     0.69     0.46   0.00     0.00     1.00     1.00      1.00"
      ]
     },
     "execution_count": 6,
     "metadata": {},
     "output_type": "execute_result"
    }
   ],
   "source": [
    "df = df[~pd.isna(df['delivery_time'])]\n",
    "df = df[df['delivery_time'] <= 1e5]\n",
    "df.rename(columns={'total_onshift_dashers': 'onshift_dashers', 'total_busy_dashers': 'busy_dashers',\n",
    "          'total_outstanding_orders': 'orders', 'estimated_store_to_consumer_driving_duration': 'driving_duration'}\n",
    "          , inplace=True)\n",
    "df['market_id']=df['market_id'].fillna(0)\n",
    "#df=df.dropna()\n",
    "df = df.transform(lambda x: x.fillna(x.mean()))#df=df.fillna(df.mean())  \n",
    "\n",
    "df['busy_dashers_pct']=df['busy_dashers'].div(df['onshift_dashers'])\\\n",
    ".replace(np.inf, 0).replace(-np.inf, 0).fillna(0)\n",
    "\n",
    "df['subtotal_log'] = np.log10(df['subtotal']+0.1)\n",
    "df['driving_duration_log'] = np.log10(df['driving_duration']+0.1)\n",
    "\n",
    "df['delivery_time_log'] = np.log10(df['delivery_time'])\n",
    "df['delivery_time_sqrt'] = np.sqrt(df['delivery_time'])\n",
    "#df.reset_index(inplace=True)\n",
    "\n",
    "df['created_at_local']=df['created_at'].dt.tz_localize('UTC').dt.tz_convert('US/Pacific')\n",
    "df['hour']=df['created_at_local'].dt.hour\n",
    "#df['hour_abs']=abs(df['created_at_local'].dt.hour-14)\n",
    "df['dayofmonth']=df['created_at_local'].dt.day\n",
    "df['dayofweek']=df['created_at_local'].dt.dayofweek\n",
    "df['evening']=np.where(df['hour']>=15, 1, 0)\n",
    "\n",
    "print(df.info())\n",
    "print(df.apply(lambda x: np.sum(pd.isna(x))))\n",
    "df.describe().T\n"
   ]
  },
  {
   "cell_type": "code",
   "execution_count": 7,
   "metadata": {
    "application/vnd.databricks.v1+cell": {
     "inputWidgets": {},
     "nuid": "2337c21c-b1e9-4d62-ac01-0b4c6f83cf90",
     "showTitle": false,
     "title": ""
    }
   },
   "outputs": [
    {
     "data": {
      "text/plain": [
       "<seaborn.axisgrid.FacetGrid at 0x267a7ce4c10>"
      ]
     },
     "execution_count": 7,
     "metadata": {},
     "output_type": "execute_result"
    },
    {
     "data": {
      "image/png": "[encoded data removed]",
      "text/plain": [
       "<Figure size 360x360 with 1 Axes>"
      ]
     },
     "metadata": {
      "needs_background": "light"
     },
     "output_type": "display_data"
    },
    {
     "data": {
      "text/plain": [
       "<AxesSubplot:xlabel='hour', ylabel='Count'>"
      ]
     },
     "execution_count": 7,
     "metadata": {},
     "output_type": "execute_result"
    },
    {
     "data": {
      "image/png": "[encoded data removed]",
      "text/plain": [
       "<Figure size 432x288 with 1 Axes>"
      ]
     },
     "metadata": {
      "needs_background": "light"
     },
     "output_type": "display_data"
    }
   ],
   "source": [
    "\n",
    "sn.catplot(x=\"hour\", y=\"delivery_time_log\", kind='box', data=df)\n",
    "plt.show()\n",
    "sn.histplot(x=\"hour\",  data=df)"
   ]
  },
  {
   "cell_type": "code",
   "execution_count": 8,
   "metadata": {
    "application/vnd.databricks.v1+cell": {
     "inputWidgets": {},
     "nuid": "e1fc43c4-10b6-4b72-9a5b-fca193e24eea",
     "showTitle": false,
     "title": ""
    }
   },
   "outputs": [
    {
     "data": {
      "text/plain": [
       "OneHotEncoder(drop='first', sparse=False)"
      ]
     },
     "execution_count": 8,
     "metadata": {},
     "output_type": "execute_result"
    },
    {
     "data": {
      "text/html": [
       "<div>\n",
       "<style scoped>\n",
       "    .dataframe tbody tr th:only-of-type {\n",
       "        vertical-align: middle;\n",
       "    }\n",
       "\n",
       "    .dataframe tbody tr th {\n",
       "        vertical-align: top;\n",
       "    }\n",
       "\n",
       "    .dataframe thead th {\n",
       "        text-align: right;\n",
       "    }\n",
       "</style>\n",
       "<table border=\"1\" class=\"dataframe\">\n",
       "  <thead>\n",
       "    <tr style=\"text-align: right;\">\n",
       "      <th></th>\n",
       "      <th>market_id1</th>\n",
       "      <th>market_id2</th>\n",
       "      <th>market_id3</th>\n",
       "      <th>market_id4</th>\n",
       "      <th>market_id5</th>\n",
       "      <th>market_id6</th>\n",
       "    </tr>\n",
       "  </thead>\n",
       "  <tbody>\n",
       "    <tr>\n",
       "      <th>0</th>\n",
       "      <td>1.00</td>\n",
       "      <td>0.00</td>\n",
       "      <td>0.00</td>\n",
       "      <td>0.00</td>\n",
       "      <td>0.00</td>\n",
       "      <td>0.00</td>\n",
       "    </tr>\n",
       "    <tr>\n",
       "      <th>1</th>\n",
       "      <td>0.00</td>\n",
       "      <td>1.00</td>\n",
       "      <td>0.00</td>\n",
       "      <td>0.00</td>\n",
       "      <td>0.00</td>\n",
       "      <td>0.00</td>\n",
       "    </tr>\n",
       "    <tr>\n",
       "      <th>2</th>\n",
       "      <td>0.00</td>\n",
       "      <td>0.00</td>\n",
       "      <td>1.00</td>\n",
       "      <td>0.00</td>\n",
       "      <td>0.00</td>\n",
       "      <td>0.00</td>\n",
       "    </tr>\n",
       "    <tr>\n",
       "      <th>3</th>\n",
       "      <td>0.00</td>\n",
       "      <td>0.00</td>\n",
       "      <td>1.00</td>\n",
       "      <td>0.00</td>\n",
       "      <td>0.00</td>\n",
       "      <td>0.00</td>\n",
       "    </tr>\n",
       "    <tr>\n",
       "      <th>4</th>\n",
       "      <td>0.00</td>\n",
       "      <td>0.00</td>\n",
       "      <td>1.00</td>\n",
       "      <td>0.00</td>\n",
       "      <td>0.00</td>\n",
       "      <td>0.00</td>\n",
       "    </tr>\n",
       "  </tbody>\n",
       "</table>\n",
       "</div>"
      ],
      "text/plain": [
       "   market_id1  market_id2  market_id3  market_id4  market_id5  market_id6\n",
       "0        1.00        0.00        0.00        0.00        0.00        0.00\n",
       "1        0.00        1.00        0.00        0.00        0.00        0.00\n",
       "2        0.00        0.00        1.00        0.00        0.00        0.00\n",
       "3        0.00        0.00        1.00        0.00        0.00        0.00\n",
       "4        0.00        0.00        1.00        0.00        0.00        0.00"
      ]
     },
     "execution_count": 8,
     "metadata": {},
     "output_type": "execute_result"
    },
    {
     "name": "stdout",
     "output_type": "stream",
     "text": [
      "<class 'pandas.core.frame.DataFrame'>\n",
      "RangeIndex: 197418 entries, 0 to 197417\n",
      "Data columns (total 6 columns):\n",
      " #   Column      Non-Null Count   Dtype  \n",
      "---  ------      --------------   -----  \n",
      " 0   market_id1  197418 non-null  float64\n",
      " 1   market_id2  197418 non-null  float64\n",
      " 2   market_id3  197418 non-null  float64\n",
      " 3   market_id4  197418 non-null  float64\n",
      " 4   market_id5  197418 non-null  float64\n",
      " 5   market_id6  197418 non-null  float64\n",
      "dtypes: float64(6)\n",
      "memory usage: 9.0 MB\n"
     ]
    }
   ],
   "source": [
    "onehot = OneHotEncoder(drop='first', sparse=False)\n",
    "\n",
    "marketid = df[['market_id']].values\n",
    "onehot.fit(marketid)\n",
    "marketid_encoded=pd.DataFrame(onehot.transform(marketid), columns=['market_id1','market_id2', 'market_id3','market_id4','market_id5','market_id6'])\n",
    "marketid_encoded.head()\n",
    "marketid_encoded.info()\n",
    "\n"
   ]
  },
  {
   "cell_type": "code",
   "execution_count": 9,
   "metadata": {
    "application/vnd.databricks.v1+cell": {
     "inputWidgets": {},
     "nuid": "434d115e-0f51-4fc1-85b9-dff47c7f7be0",
     "showTitle": false,
     "title": ""
    }
   },
   "outputs": [
    {
     "name": "stdout",
     "output_type": "stream",
     "text": [
      "<class 'pandas.core.frame.DataFrame'>\n",
      "RangeIndex: 197418 entries, 0 to 197417\n",
      "Data columns (total 27 columns):\n",
      " #   Column                Non-Null Count   Dtype                     \n",
      "---  ------                --------------   -----                     \n",
      " 0   index                 197418 non-null  int64                     \n",
      " 1   market_id             197418 non-null  float64                   \n",
      " 2   created_at            197418 non-null  datetime64[ns]            \n",
      " 3   actual_delivery_time  197418 non-null  datetime64[ns]            \n",
      " 4   store_id              197418 non-null  int64                     \n",
      " 5   subtotal              197418 non-null  int64                     \n",
      " 6   onshift_dashers       197418 non-null  float64                   \n",
      " 7   busy_dashers          197418 non-null  float64                   \n",
      " 8   orders                197418 non-null  float64                   \n",
      " 9   driving_duration      197418 non-null  float64                   \n",
      " 10  delivery_time         197418 non-null  float64                   \n",
      " 11  busy_dashers_pct      197418 non-null  float64                   \n",
      " 12  subtotal_log          197418 non-null  float64                   \n",
      " 13  driving_duration_log  197418 non-null  float64                   \n",
      " 14  delivery_time_log     197418 non-null  float64                   \n",
      " 15  delivery_time_sqrt    197418 non-null  float64                   \n",
      " 16  created_at_local      197418 non-null  datetime64[ns, US/Pacific]\n",
      " 17  hour                  197418 non-null  int64                     \n",
      " 18  dayofmonth            197418 non-null  int64                     \n",
      " 19  dayofweek             197418 non-null  int64                     \n",
      " 20  evening               197418 non-null  int32                     \n",
      " 21  market_id1            197418 non-null  float64                   \n",
      " 22  market_id2            197418 non-null  float64                   \n",
      " 23  market_id3            197418 non-null  float64                   \n",
      " 24  market_id4            197418 non-null  float64                   \n",
      " 25  market_id5            197418 non-null  float64                   \n",
      " 26  market_id6            197418 non-null  float64                   \n",
      "dtypes: datetime64[ns, US/Pacific](1), datetime64[ns](2), float64(17), int32(1), int64(6)\n",
      "memory usage: 39.9 MB\n"
     ]
    },
    {
     "data": {
      "text/html": [
       "<div>\n",
       "<style scoped>\n",
       "    .dataframe tbody tr th:only-of-type {\n",
       "        vertical-align: middle;\n",
       "    }\n",
       "\n",
       "    .dataframe tbody tr th {\n",
       "        vertical-align: top;\n",
       "    }\n",
       "\n",
       "    .dataframe thead th {\n",
       "        text-align: right;\n",
       "    }\n",
       "</style>\n",
       "<table border=\"1\" class=\"dataframe\">\n",
       "  <thead>\n",
       "    <tr style=\"text-align: right;\">\n",
       "      <th></th>\n",
       "      <th>index</th>\n",
       "      <th>market_id</th>\n",
       "      <th>created_at</th>\n",
       "      <th>actual_delivery_time</th>\n",
       "      <th>store_id</th>\n",
       "      <th>subtotal</th>\n",
       "      <th>onshift_dashers</th>\n",
       "      <th>busy_dashers</th>\n",
       "      <th>orders</th>\n",
       "      <th>driving_duration</th>\n",
       "      <th>delivery_time</th>\n",
       "      <th>busy_dashers_pct</th>\n",
       "      <th>subtotal_log</th>\n",
       "      <th>driving_duration_log</th>\n",
       "      <th>delivery_time_log</th>\n",
       "      <th>delivery_time_sqrt</th>\n",
       "      <th>created_at_local</th>\n",
       "      <th>hour</th>\n",
       "      <th>dayofmonth</th>\n",
       "      <th>dayofweek</th>\n",
       "      <th>evening</th>\n",
       "      <th>market_id1</th>\n",
       "      <th>market_id2</th>\n",
       "      <th>market_id3</th>\n",
       "      <th>market_id4</th>\n",
       "      <th>market_id5</th>\n",
       "      <th>market_id6</th>\n",
       "    </tr>\n",
       "  </thead>\n",
       "  <tbody>\n",
       "    <tr>\n",
       "      <th>0</th>\n",
       "      <td>0</td>\n",
       "      <td>1.00</td>\n",
       "      <td>2015-02-06 22:24:17</td>\n",
       "      <td>2015-02-06 23:27:16</td>\n",
       "      <td>1845</td>\n",
       "      <td>3441</td>\n",
       "      <td>33.00</td>\n",
       "      <td>14.00</td>\n",
       "      <td>21.00</td>\n",
       "      <td>861.00</td>\n",
       "      <td>3,779.00</td>\n",
       "      <td>0.42</td>\n",
       "      <td>3.54</td>\n",
       "      <td>2.94</td>\n",
       "      <td>3.58</td>\n",
       "      <td>61.47</td>\n",
       "      <td>2015-02-06 14:24:17-08:00</td>\n",
       "      <td>14</td>\n",
       "      <td>6</td>\n",
       "      <td>4</td>\n",
       "      <td>0</td>\n",
       "      <td>1.00</td>\n",
       "      <td>0.00</td>\n",
       "      <td>0.00</td>\n",
       "      <td>0.00</td>\n",
       "      <td>0.00</td>\n",
       "      <td>0.00</td>\n",
       "    </tr>\n",
       "    <tr>\n",
       "      <th>1</th>\n",
       "      <td>1</td>\n",
       "      <td>2.00</td>\n",
       "      <td>2015-02-10 21:49:25</td>\n",
       "      <td>2015-02-10 22:56:29</td>\n",
       "      <td>5477</td>\n",
       "      <td>1900</td>\n",
       "      <td>1.00</td>\n",
       "      <td>2.00</td>\n",
       "      <td>2.00</td>\n",
       "      <td>690.00</td>\n",
       "      <td>4,024.00</td>\n",
       "      <td>2.00</td>\n",
       "      <td>3.28</td>\n",
       "      <td>2.84</td>\n",
       "      <td>3.60</td>\n",
       "      <td>63.44</td>\n",
       "      <td>2015-02-10 13:49:25-08:00</td>\n",
       "      <td>13</td>\n",
       "      <td>10</td>\n",
       "      <td>1</td>\n",
       "      <td>0</td>\n",
       "      <td>0.00</td>\n",
       "      <td>1.00</td>\n",
       "      <td>0.00</td>\n",
       "      <td>0.00</td>\n",
       "      <td>0.00</td>\n",
       "      <td>0.00</td>\n",
       "    </tr>\n",
       "    <tr>\n",
       "      <th>2</th>\n",
       "      <td>2</td>\n",
       "      <td>3.00</td>\n",
       "      <td>2015-01-22 20:39:28</td>\n",
       "      <td>2015-01-22 21:09:09</td>\n",
       "      <td>5477</td>\n",
       "      <td>1900</td>\n",
       "      <td>1.00</td>\n",
       "      <td>0.00</td>\n",
       "      <td>0.00</td>\n",
       "      <td>690.00</td>\n",
       "      <td>1,781.00</td>\n",
       "      <td>0.00</td>\n",
       "      <td>3.28</td>\n",
       "      <td>2.84</td>\n",
       "      <td>3.25</td>\n",
       "      <td>42.20</td>\n",
       "      <td>2015-01-22 12:39:28-08:00</td>\n",
       "      <td>12</td>\n",
       "      <td>22</td>\n",
       "      <td>3</td>\n",
       "      <td>0</td>\n",
       "      <td>0.00</td>\n",
       "      <td>0.00</td>\n",
       "      <td>1.00</td>\n",
       "      <td>0.00</td>\n",
       "      <td>0.00</td>\n",
       "      <td>0.00</td>\n",
       "    </tr>\n",
       "    <tr>\n",
       "      <th>3</th>\n",
       "      <td>3</td>\n",
       "      <td>3.00</td>\n",
       "      <td>2015-02-03 21:21:45</td>\n",
       "      <td>2015-02-03 22:13:00</td>\n",
       "      <td>5477</td>\n",
       "      <td>6900</td>\n",
       "      <td>1.00</td>\n",
       "      <td>1.00</td>\n",
       "      <td>2.00</td>\n",
       "      <td>289.00</td>\n",
       "      <td>3,075.00</td>\n",
       "      <td>1.00</td>\n",
       "      <td>3.84</td>\n",
       "      <td>2.46</td>\n",
       "      <td>3.49</td>\n",
       "      <td>55.45</td>\n",
       "      <td>2015-02-03 13:21:45-08:00</td>\n",
       "      <td>13</td>\n",
       "      <td>3</td>\n",
       "      <td>1</td>\n",
       "      <td>0</td>\n",
       "      <td>0.00</td>\n",
       "      <td>0.00</td>\n",
       "      <td>1.00</td>\n",
       "      <td>0.00</td>\n",
       "      <td>0.00</td>\n",
       "      <td>0.00</td>\n",
       "    </tr>\n",
       "    <tr>\n",
       "      <th>4</th>\n",
       "      <td>4</td>\n",
       "      <td>3.00</td>\n",
       "      <td>2015-02-15 02:40:36</td>\n",
       "      <td>2015-02-15 03:20:26</td>\n",
       "      <td>5477</td>\n",
       "      <td>3900</td>\n",
       "      <td>6.00</td>\n",
       "      <td>6.00</td>\n",
       "      <td>9.00</td>\n",
       "      <td>650.00</td>\n",
       "      <td>2,390.00</td>\n",
       "      <td>1.00</td>\n",
       "      <td>3.59</td>\n",
       "      <td>2.81</td>\n",
       "      <td>3.38</td>\n",
       "      <td>48.89</td>\n",
       "      <td>2015-02-14 18:40:36-08:00</td>\n",
       "      <td>18</td>\n",
       "      <td>14</td>\n",
       "      <td>5</td>\n",
       "      <td>1</td>\n",
       "      <td>0.00</td>\n",
       "      <td>0.00</td>\n",
       "      <td>1.00</td>\n",
       "      <td>0.00</td>\n",
       "      <td>0.00</td>\n",
       "      <td>0.00</td>\n",
       "    </tr>\n",
       "  </tbody>\n",
       "</table>\n",
       "</div>"
      ],
      "text/plain": [
       "   index  market_id          created_at actual_delivery_time  store_id  subtotal  onshift_dashers  busy_dashers  orders  driving_duration  delivery_time  \\\n",
       "0      0       1.00 2015-02-06 22:24:17  2015-02-06 23:27:16      1845      3441            33.00         14.00   21.00            861.00       3,779.00   \n",
       "1      1       2.00 2015-02-10 21:49:25  2015-02-10 22:56:29      5477      1900             1.00          2.00    2.00            690.00       4,024.00   \n",
       "2      2       3.00 2015-01-22 20:39:28  2015-01-22 21:09:09      5477      1900             1.00          0.00    0.00            690.00       1,781.00   \n",
       "3      3       3.00 2015-02-03 21:21:45  2015-02-03 22:13:00      5477      6900             1.00          1.00    2.00            289.00       3,075.00   \n",
       "4      4       3.00 2015-02-15 02:40:36  2015-02-15 03:20:26      5477      3900             6.00          6.00    9.00            650.00       2,390.00   \n",
       "\n",
       "   busy_dashers_pct  subtotal_log  driving_duration_log  delivery_time_log  delivery_time_sqrt          created_at_local  hour  dayofmonth  dayofweek  \\\n",
       "0              0.42          3.54                  2.94               3.58               61.47 2015-02-06 14:24:17-08:00    14           6          4   \n",
       "1              2.00          3.28                  2.84               3.60               63.44 2015-02-10 13:49:25-08:00    13          10          1   \n",
       "2              0.00          3.28                  2.84               3.25               42.20 2015-01-22 12:39:28-08:00    12          22          3   \n",
       "3              1.00          3.84                  2.46               3.49               55.45 2015-02-03 13:21:45-08:00    13           3          1   \n",
       "4              1.00          3.59                  2.81               3.38               48.89 2015-02-14 18:40:36-08:00    18          14          5   \n",
       "\n",
       "   evening  market_id1  market_id2  market_id3  market_id4  market_id5  market_id6  \n",
       "0        0        1.00        0.00        0.00        0.00        0.00        0.00  \n",
       "1        0        0.00        1.00        0.00        0.00        0.00        0.00  \n",
       "2        0        0.00        0.00        1.00        0.00        0.00        0.00  \n",
       "3        0        0.00        0.00        1.00        0.00        0.00        0.00  \n",
       "4        1        0.00        0.00        1.00        0.00        0.00        0.00  "
      ]
     },
     "execution_count": 9,
     "metadata": {},
     "output_type": "execute_result"
    },
    {
     "data": {
      "text/html": [
       "<div>\n",
       "<style scoped>\n",
       "    .dataframe tbody tr th:only-of-type {\n",
       "        vertical-align: middle;\n",
       "    }\n",
       "\n",
       "    .dataframe tbody tr th {\n",
       "        vertical-align: top;\n",
       "    }\n",
       "\n",
       "    .dataframe thead th {\n",
       "        text-align: right;\n",
       "    }\n",
       "</style>\n",
       "<table border=\"1\" class=\"dataframe\">\n",
       "  <thead>\n",
       "    <tr style=\"text-align: right;\">\n",
       "      <th></th>\n",
       "      <th>count</th>\n",
       "      <th>mean</th>\n",
       "      <th>std</th>\n",
       "      <th>min</th>\n",
       "      <th>25%</th>\n",
       "      <th>50%</th>\n",
       "      <th>75%</th>\n",
       "      <th>max</th>\n",
       "    </tr>\n",
       "  </thead>\n",
       "  <tbody>\n",
       "    <tr>\n",
       "      <th>index</th>\n",
       "      <td>197,418.00</td>\n",
       "      <td>98,714.00</td>\n",
       "      <td>56,991.87</td>\n",
       "      <td>0.00</td>\n",
       "      <td>49,358.25</td>\n",
       "      <td>98,713.50</td>\n",
       "      <td>148,069.75</td>\n",
       "      <td>197,427.00</td>\n",
       "    </tr>\n",
       "    <tr>\n",
       "      <th>market_id</th>\n",
       "      <td>197,418.00</td>\n",
       "      <td>2.96</td>\n",
       "      <td>1.54</td>\n",
       "      <td>0.00</td>\n",
       "      <td>2.00</td>\n",
       "      <td>3.00</td>\n",
       "      <td>4.00</td>\n",
       "      <td>6.00</td>\n",
       "    </tr>\n",
       "    <tr>\n",
       "      <th>store_id</th>\n",
       "      <td>197,418.00</td>\n",
       "      <td>3,530.56</td>\n",
       "      <td>2,053.50</td>\n",
       "      <td>1.00</td>\n",
       "      <td>1,686.00</td>\n",
       "      <td>3,592.00</td>\n",
       "      <td>5,299.00</td>\n",
       "      <td>6,987.00</td>\n",
       "    </tr>\n",
       "    <tr>\n",
       "      <th>subtotal</th>\n",
       "      <td>197,418.00</td>\n",
       "      <td>2,682.33</td>\n",
       "      <td>1,823.11</td>\n",
       "      <td>0.00</td>\n",
       "      <td>1,400.00</td>\n",
       "      <td>2,200.00</td>\n",
       "      <td>3,395.00</td>\n",
       "      <td>27,100.00</td>\n",
       "    </tr>\n",
       "    <tr>\n",
       "      <th>onshift_dashers</th>\n",
       "      <td>197,418.00</td>\n",
       "      <td>44.81</td>\n",
       "      <td>33.07</td>\n",
       "      <td>-4.00</td>\n",
       "      <td>19.00</td>\n",
       "      <td>41.00</td>\n",
       "      <td>62.00</td>\n",
       "      <td>171.00</td>\n",
       "    </tr>\n",
       "    <tr>\n",
       "      <th>busy_dashers</th>\n",
       "      <td>197,418.00</td>\n",
       "      <td>41.74</td>\n",
       "      <td>30.79</td>\n",
       "      <td>-5.00</td>\n",
       "      <td>17.00</td>\n",
       "      <td>39.00</td>\n",
       "      <td>59.00</td>\n",
       "      <td>154.00</td>\n",
       "    </tr>\n",
       "    <tr>\n",
       "      <th>orders</th>\n",
       "      <td>197,418.00</td>\n",
       "      <td>58.05</td>\n",
       "      <td>50.44</td>\n",
       "      <td>-6.00</td>\n",
       "      <td>19.00</td>\n",
       "      <td>47.00</td>\n",
       "      <td>80.00</td>\n",
       "      <td>285.00</td>\n",
       "    </tr>\n",
       "    <tr>\n",
       "      <th>driving_duration</th>\n",
       "      <td>197,418.00</td>\n",
       "      <td>545.36</td>\n",
       "      <td>219.06</td>\n",
       "      <td>0.00</td>\n",
       "      <td>383.00</td>\n",
       "      <td>544.00</td>\n",
       "      <td>702.00</td>\n",
       "      <td>2,088.00</td>\n",
       "    </tr>\n",
       "    <tr>\n",
       "      <th>delivery_time</th>\n",
       "      <td>197,418.00</td>\n",
       "      <td>2,861.58</td>\n",
       "      <td>1,164.09</td>\n",
       "      <td>101.00</td>\n",
       "      <td>2,104.00</td>\n",
       "      <td>2,660.00</td>\n",
       "      <td>3,381.00</td>\n",
       "      <td>57,032.00</td>\n",
       "    </tr>\n",
       "    <tr>\n",
       "      <th>busy_dashers_pct</th>\n",
       "      <td>197,418.00</td>\n",
       "      <td>0.93</td>\n",
       "      <td>0.41</td>\n",
       "      <td>-13.00</td>\n",
       "      <td>0.83</td>\n",
       "      <td>0.94</td>\n",
       "      <td>1.00</td>\n",
       "      <td>31.00</td>\n",
       "    </tr>\n",
       "    <tr>\n",
       "      <th>subtotal_log</th>\n",
       "      <td>197,418.00</td>\n",
       "      <td>3.34</td>\n",
       "      <td>0.30</td>\n",
       "      <td>-1.00</td>\n",
       "      <td>3.15</td>\n",
       "      <td>3.34</td>\n",
       "      <td>3.53</td>\n",
       "      <td>4.43</td>\n",
       "    </tr>\n",
       "    <tr>\n",
       "      <th>driving_duration_log</th>\n",
       "      <td>197,418.00</td>\n",
       "      <td>2.69</td>\n",
       "      <td>0.21</td>\n",
       "      <td>-1.00</td>\n",
       "      <td>2.58</td>\n",
       "      <td>2.74</td>\n",
       "      <td>2.85</td>\n",
       "      <td>3.32</td>\n",
       "    </tr>\n",
       "    <tr>\n",
       "      <th>delivery_time_log</th>\n",
       "      <td>197,418.00</td>\n",
       "      <td>3.43</td>\n",
       "      <td>0.16</td>\n",
       "      <td>2.00</td>\n",
       "      <td>3.32</td>\n",
       "      <td>3.42</td>\n",
       "      <td>3.53</td>\n",
       "      <td>4.76</td>\n",
       "    </tr>\n",
       "    <tr>\n",
       "      <th>delivery_time_sqrt</th>\n",
       "      <td>197,418.00</td>\n",
       "      <td>52.58</td>\n",
       "      <td>9.83</td>\n",
       "      <td>10.05</td>\n",
       "      <td>45.87</td>\n",
       "      <td>51.58</td>\n",
       "      <td>58.15</td>\n",
       "      <td>238.81</td>\n",
       "    </tr>\n",
       "    <tr>\n",
       "      <th>hour</th>\n",
       "      <td>197,418.00</td>\n",
       "      <td>16.11</td>\n",
       "      <td>3.31</td>\n",
       "      <td>0.00</td>\n",
       "      <td>13.00</td>\n",
       "      <td>17.00</td>\n",
       "      <td>19.00</td>\n",
       "      <td>23.00</td>\n",
       "    </tr>\n",
       "    <tr>\n",
       "      <th>dayofmonth</th>\n",
       "      <td>197,418.00</td>\n",
       "      <td>15.43</td>\n",
       "      <td>9.25</td>\n",
       "      <td>1.00</td>\n",
       "      <td>7.00</td>\n",
       "      <td>14.00</td>\n",
       "      <td>24.00</td>\n",
       "      <td>31.00</td>\n",
       "    </tr>\n",
       "    <tr>\n",
       "      <th>dayofweek</th>\n",
       "      <td>197,418.00</td>\n",
       "      <td>3.22</td>\n",
       "      <td>1.98</td>\n",
       "      <td>0.00</td>\n",
       "      <td>2.00</td>\n",
       "      <td>3.00</td>\n",
       "      <td>5.00</td>\n",
       "      <td>6.00</td>\n",
       "    </tr>\n",
       "    <tr>\n",
       "      <th>evening</th>\n",
       "      <td>197,418.00</td>\n",
       "      <td>0.69</td>\n",
       "      <td>0.46</td>\n",
       "      <td>0.00</td>\n",
       "      <td>0.00</td>\n",
       "      <td>1.00</td>\n",
       "      <td>1.00</td>\n",
       "      <td>1.00</td>\n",
       "    </tr>\n",
       "    <tr>\n",
       "      <th>market_id1</th>\n",
       "      <td>197,418.00</td>\n",
       "      <td>0.19</td>\n",
       "      <td>0.39</td>\n",
       "      <td>0.00</td>\n",
       "      <td>0.00</td>\n",
       "      <td>0.00</td>\n",
       "      <td>0.00</td>\n",
       "      <td>1.00</td>\n",
       "    </tr>\n",
       "    <tr>\n",
       "      <th>market_id2</th>\n",
       "      <td>197,418.00</td>\n",
       "      <td>0.28</td>\n",
       "      <td>0.45</td>\n",
       "      <td>0.00</td>\n",
       "      <td>0.00</td>\n",
       "      <td>0.00</td>\n",
       "      <td>1.00</td>\n",
       "      <td>1.00</td>\n",
       "    </tr>\n",
       "    <tr>\n",
       "      <th>market_id3</th>\n",
       "      <td>197,418.00</td>\n",
       "      <td>0.12</td>\n",
       "      <td>0.32</td>\n",
       "      <td>0.00</td>\n",
       "      <td>0.00</td>\n",
       "      <td>0.00</td>\n",
       "      <td>0.00</td>\n",
       "      <td>1.00</td>\n",
       "    </tr>\n",
       "    <tr>\n",
       "      <th>market_id4</th>\n",
       "      <td>197,418.00</td>\n",
       "      <td>0.24</td>\n",
       "      <td>0.43</td>\n",
       "      <td>0.00</td>\n",
       "      <td>0.00</td>\n",
       "      <td>0.00</td>\n",
       "      <td>0.00</td>\n",
       "      <td>1.00</td>\n",
       "    </tr>\n",
       "    <tr>\n",
       "      <th>market_id5</th>\n",
       "      <td>197,418.00</td>\n",
       "      <td>0.09</td>\n",
       "      <td>0.29</td>\n",
       "      <td>0.00</td>\n",
       "      <td>0.00</td>\n",
       "      <td>0.00</td>\n",
       "      <td>0.00</td>\n",
       "      <td>1.00</td>\n",
       "    </tr>\n",
       "    <tr>\n",
       "      <th>market_id6</th>\n",
       "      <td>197,418.00</td>\n",
       "      <td>0.07</td>\n",
       "      <td>0.26</td>\n",
       "      <td>0.00</td>\n",
       "      <td>0.00</td>\n",
       "      <td>0.00</td>\n",
       "      <td>0.00</td>\n",
       "      <td>1.00</td>\n",
       "    </tr>\n",
       "  </tbody>\n",
       "</table>\n",
       "</div>"
      ],
      "text/plain": [
       "                          count      mean       std    min       25%       50%        75%        max\n",
       "index                197,418.00 98,714.00 56,991.87   0.00 49,358.25 98,713.50 148,069.75 197,427.00\n",
       "market_id            197,418.00      2.96      1.54   0.00      2.00      3.00       4.00       6.00\n",
       "store_id             197,418.00  3,530.56  2,053.50   1.00  1,686.00  3,592.00   5,299.00   6,987.00\n",
       "subtotal             197,418.00  2,682.33  1,823.11   0.00  1,400.00  2,200.00   3,395.00  27,100.00\n",
       "onshift_dashers      197,418.00     44.81     33.07  -4.00     19.00     41.00      62.00     171.00\n",
       "busy_dashers         197,418.00     41.74     30.79  -5.00     17.00     39.00      59.00     154.00\n",
       "orders               197,418.00     58.05     50.44  -6.00     19.00     47.00      80.00     285.00\n",
       "driving_duration     197,418.00    545.36    219.06   0.00    383.00    544.00     702.00   2,088.00\n",
       "delivery_time        197,418.00  2,861.58  1,164.09 101.00  2,104.00  2,660.00   3,381.00  57,032.00\n",
       "busy_dashers_pct     197,418.00      0.93      0.41 -13.00      0.83      0.94       1.00      31.00\n",
       "subtotal_log         197,418.00      3.34      0.30  -1.00      3.15      3.34       3.53       4.43\n",
       "driving_duration_log 197,418.00      2.69      0.21  -1.00      2.58      2.74       2.85       3.32\n",
       "delivery_time_log    197,418.00      3.43      0.16   2.00      3.32      3.42       3.53       4.76\n",
       "delivery_time_sqrt   197,418.00     52.58      9.83  10.05     45.87     51.58      58.15     238.81\n",
       "hour                 197,418.00     16.11      3.31   0.00     13.00     17.00      19.00      23.00\n",
       "dayofmonth           197,418.00     15.43      9.25   1.00      7.00     14.00      24.00      31.00\n",
       "dayofweek            197,418.00      3.22      1.98   0.00      2.00      3.00       5.00       6.00\n",
       "evening              197,418.00      0.69      0.46   0.00      0.00      1.00       1.00       1.00\n",
       "market_id1           197,418.00      0.19      0.39   0.00      0.00      0.00       0.00       1.00\n",
       "market_id2           197,418.00      0.28      0.45   0.00      0.00      0.00       1.00       1.00\n",
       "market_id3           197,418.00      0.12      0.32   0.00      0.00      0.00       0.00       1.00\n",
       "market_id4           197,418.00      0.24      0.43   0.00      0.00      0.00       0.00       1.00\n",
       "market_id5           197,418.00      0.09      0.29   0.00      0.00      0.00       0.00       1.00\n",
       "market_id6           197,418.00      0.07      0.26   0.00      0.00      0.00       0.00       1.00"
      ]
     },
     "execution_count": 9,
     "metadata": {},
     "output_type": "execute_result"
    }
   ],
   "source": [
    "#df=pd.DataFrame(np.column_stack([df,marketid_encoded]),    columns=df.columns.append(marketid_encoded.columns))\n",
    "df=pd.concat([df.reset_index(), marketid_encoded], axis=1)\n",
    "df.info()\n",
    "df.head()\n",
    "df.describe().T"
   ]
  },
  {
   "cell_type": "markdown",
   "metadata": {
    "application/vnd.databricks.v1+cell": {
     "inputWidgets": {},
     "nuid": "e50b2095-e710-4147-96d2-a23d2f5827f0",
     "showTitle": false,
     "title": ""
    }
   },
   "source": [
    "### Correlation Matrix\n",
    "\n",
    "The heatmap plots the correlation matrix of variables of interest. As we can see the correlation between featurs and target is not strong (smaller than 0.3). There is multicollinearity among the two dasher variables and 'orders'."
   ]
  },
  {
   "cell_type": "code",
   "execution_count": 10,
   "metadata": {
    "application/vnd.databricks.v1+cell": {
     "inputWidgets": {},
     "nuid": "ac34969b-ca2f-4fc0-a579-99677333918d",
     "showTitle": false,
     "title": ""
    }
   },
   "outputs": [
    {
     "name": "stdout",
     "output_type": "stream",
     "text": [
      "<class 'pandas.core.frame.DataFrame'>\n",
      "RangeIndex: 197418 entries, 0 to 197417\n",
      "Data columns (total 27 columns):\n",
      " #   Column                Non-Null Count   Dtype                     \n",
      "---  ------                --------------   -----                     \n",
      " 0   index                 197418 non-null  int64                     \n",
      " 1   market_id             197418 non-null  float64                   \n",
      " 2   created_at            197418 non-null  datetime64[ns]            \n",
      " 3   actual_delivery_time  197418 non-null  datetime64[ns]            \n",
      " 4   store_id              197418 non-null  int64                     \n",
      " 5   subtotal              197418 non-null  int64                     \n",
      " 6   onshift_dashers       197418 non-null  float64                   \n",
      " 7   busy_dashers          197418 non-null  float64                   \n",
      " 8   orders                197418 non-null  float64                   \n",
      " 9   driving_duration      197418 non-null  float64                   \n",
      " 10  delivery_time         197418 non-null  float64                   \n",
      " 11  busy_dashers_pct      197418 non-null  float64                   \n",
      " 12  subtotal_log          197418 non-null  float64                   \n",
      " 13  driving_duration_log  197418 non-null  float64                   \n",
      " 14  delivery_time_log     197418 non-null  float64                   \n",
      " 15  delivery_time_sqrt    197418 non-null  float64                   \n",
      " 16  created_at_local      197418 non-null  datetime64[ns, US/Pacific]\n",
      " 17  hour                  197418 non-null  int64                     \n",
      " 18  dayofmonth            197418 non-null  int64                     \n",
      " 19  dayofweek             197418 non-null  int64                     \n",
      " 20  evening               197418 non-null  int32                     \n",
      " 21  market_id1            197418 non-null  float64                   \n",
      " 22  market_id2            197418 non-null  float64                   \n",
      " 23  market_id3            197418 non-null  float64                   \n",
      " 24  market_id4            197418 non-null  float64                   \n",
      " 25  market_id5            197418 non-null  float64                   \n",
      " 26  market_id6            197418 non-null  float64                   \n",
      "dtypes: datetime64[ns, US/Pacific](1), datetime64[ns](2), float64(17), int32(1), int64(6)\n",
      "memory usage: 39.9 MB\n"
     ]
    },
    {
     "data": {
      "image/png": "[encoded data removed]",
      "text/plain": [
       "<Figure size 432x288 with 2 Axes>"
      ]
     },
     "metadata": {
      "needs_background": "light"
     },
     "output_type": "display_data"
    }
   ],
   "source": [
    "cols = ['market_id','subtotal', 'onshift_dashers', 'busy_dashers', 'orders',\n",
    "        'driving_duration', 'evening', 'dayofmonth', 'dayofweek',  'delivery_time_log']\n",
    "df.info()\n",
    "cm = np.corrcoef(df[cols].values.T)\n",
    "hm = heatmap(cm, row_names=cols, column_names=cols)"
   ]
  },
  {
   "cell_type": "markdown",
   "metadata": {
    "application/vnd.databricks.v1+cell": {
     "inputWidgets": {},
     "nuid": "6770b30a-bfc7-4978-b953-531cd47d0732",
     "showTitle": false,
     "title": ""
    }
   },
   "source": [
    "### Dealing with Multicollinearity\n",
    "\n",
    "Based on the heatmap,  'onshift_dashers', 'busy_dashers' and 'orders' are strongly correlated. Here, we will combine the correlated columns into one to accommodate the slightest behavior of the individual columns. We do this by using the Principal Component Analysis (PCA) transformation technique."
   ]
  },
  {
   "cell_type": "code",
   "execution_count": 11,
   "metadata": {
    "application/vnd.databricks.v1+cell": {
     "inputWidgets": {},
     "nuid": "78b17759-e1f9-4ec5-989a-6ba56b8fb028",
     "showTitle": false,
     "title": ""
    }
   },
   "outputs": [],
   "source": [
    "#compress the columns 'onshift_dashers', 'busy_dashers', 'orders' into 1 column\n",
    "pca = PCA(n_components=1)\n",
    "#call the compressed column 'new'\n",
    "df['new_dashers_orders'] = pca.fit_transform(df[['onshift_dashers', 'busy_dashers', 'orders']])"
   ]
  },
  {
   "cell_type": "code",
   "execution_count": 0,
   "metadata": {
    "application/vnd.databricks.v1+cell": {
     "inputWidgets": {},
     "nuid": "0258583b-a426-4188-902d-0a2c529ec230",
     "showTitle": false,
     "title": ""
    }
   },
   "outputs": [
    {
     "data": {
      "text/html": [
       "<style scoped>\n",
       "  .ansiout {\n",
       "    display: block;\n",
       "    unicode-bidi: embed;\n",
       "    white-space: pre-wrap;\n",
       "    word-wrap: break-word;\n",
       "    word-break: break-all;\n",
       "    font-family: \"Source Code Pro\", \"Menlo\", monospace;;\n",
       "    font-size: 13px;\n",
       "    color: #555;\n",
       "    margin-left: 4px;\n",
       "    line-height: 19px;\n",
       "  }\n",
       "</style>\n",
       "<div class=\"ansiout\">Out[43]: Out[43]: </div>"
      ]
     },
     "metadata": {
      "application/vnd.databricks.v1+output": {
       "addedWidgets": {},
       "arguments": {},
       "data": "<div class=\"ansiout\">Out[43]: Out[43]: </div>",
       "datasetInfos": [],
       "metadata": {},
       "removedWidgets": [],
       "type": "html"
      }
     },
     "output_type": "display_data"
    },
    {
     "data": {
      "image/png": "[encoded data removed]"
     },
     "metadata": {
      "application/vnd.databricks.v1+output": {
       "addedWidgets": {},
       "arguments": {},
       "data": "data:image/png;base64,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",
       "datasetInfos": [],
       "metadata": {
        "imageDimensions": {
         "height": 248,
         "width": 393
        }
       },
       "removedWidgets": [],
       "type": "image"
      },
      "image/png": {
       "height": 248,
       "width": 393
      }
     },
     "output_type": "display_data"
    },
    {
     "data": {
      "text/html": [
       "<style scoped>\n",
       "  .ansiout {\n",
       "    display: block;\n",
       "    unicode-bidi: embed;\n",
       "    white-space: pre-wrap;\n",
       "    word-wrap: break-word;\n",
       "    word-break: break-all;\n",
       "    font-family: \"Source Code Pro\", \"Menlo\", monospace;;\n",
       "    font-size: 13px;\n",
       "    color: #555;\n",
       "    margin-left: 4px;\n",
       "    line-height: 19px;\n",
       "  }\n",
       "</style>\n",
       "<div class=\"ansiout\">&lt;AxesSubplot:&gt;</div>"
      ]
     },
     "metadata": {
      "application/vnd.databricks.v1+output": {
       "addedWidgets": {},
       "arguments": {},
       "data": "<div class=\"ansiout\">&lt;AxesSubplot:&gt;</div>",
       "datasetInfos": [],
       "metadata": {},
       "removedWidgets": [],
       "type": "html"
      }
     },
     "output_type": "display_data"
    }
   ],
   "source": [
    "df['subtotal_log'].hist()\n",
    "df['driving_duration_log'].hist()"
   ]
  },
  {
   "cell_type": "markdown",
   "metadata": {
    "application/vnd.databricks.v1+cell": {
     "inputWidgets": {},
     "nuid": "b315ea55-9e51-423f-835e-5c905bd86595",
     "showTitle": false,
     "title": ""
    }
   },
   "source": [
    "### Visualizing the important characteristics\n",
    "\n",
    "A scatterplot matrix allows us to visualize the pair-wise correlations between the different features in this dataset in one place. Due to the large sample size, we can only select a small sample from the dataset to create the scatterplot. However, you can still quickly eyeball how the data is distributed. For example, we can see 'delivery_time' is right_skewed with outliers. The log transform 'delivery_time_log' is more normally distributed. The linear relationship between features and target variable 'delivery_time' is not very storng."
   ]
  },
  {
   "cell_type": "code",
   "execution_count": 0,
   "metadata": {
    "application/vnd.databricks.v1+cell": {
     "inputWidgets": {},
     "nuid": "63d9e23d-637d-4277-9e3a-4ba68d6857d8",
     "showTitle": false,
     "title": ""
    }
   },
   "outputs": [
    {
     "data": {
      "text/html": [
       "<style scoped>\n",
       "  .ansiout {\n",
       "    display: block;\n",
       "    unicode-bidi: embed;\n",
       "    white-space: pre-wrap;\n",
       "    word-wrap: break-word;\n",
       "    word-break: break-all;\n",
       "    font-family: \"Source Code Pro\", \"Menlo\", monospace;;\n",
       "    font-size: 13px;\n",
       "    color: #555;\n",
       "    margin-left: 4px;\n",
       "    line-height: 19px;\n",
       "  }\n",
       "</style>\n",
       "<div class=\"ansiout\">Out[44]: </div>"
      ]
     },
     "metadata": {
      "application/vnd.databricks.v1+output": {
       "addedWidgets": {},
       "arguments": {},
       "data": "<div class=\"ansiout\">Out[44]: </div>",
       "datasetInfos": [],
       "metadata": {},
       "removedWidgets": [],
       "type": "html"
      }
     },
     "output_type": "display_data"
    },
    {
     "data": {
      "image/png": "[encoded data removed]"
     },
     "metadata": {
      "application/vnd.databricks.v1+output": {
       "addedWidgets": {},
       "arguments": {},
       "data": "data:image/png;base64,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",
       "datasetInfos": [],
       "metadata": {
        "imageDimensions": {
         "height": 568,
         "width": 717
        }
       },
       "removedWidgets": [],
       "type": "image"
      },
      "image/png": {
       "height": 568,
       "width": 717
      }
     },
     "output_type": "display_data"
    },
    {
     "data": {
      "text/html": [
       "<style scoped>\n",
       "  .ansiout {\n",
       "    display: block;\n",
       "    unicode-bidi: embed;\n",
       "    white-space: pre-wrap;\n",
       "    word-wrap: break-word;\n",
       "    word-break: break-all;\n",
       "    font-family: \"Source Code Pro\", \"Menlo\", monospace;;\n",
       "    font-size: 13px;\n",
       "    color: #555;\n",
       "    margin-left: 4px;\n",
       "    line-height: 19px;\n",
       "  }\n",
       "</style>\n",
       "<div class=\"ansiout\">(&lt;Figure size 720x576 with 25 Axes&gt;,\n",
       " array([[&lt;AxesSubplot:xlabel=&#39;subtotal_log&#39;, ylabel=&#39;Count&#39;&gt;,\n",
       "         &lt;AxesSubplot:&gt;, &lt;AxesSubplot:&gt;, &lt;AxesSubplot:&gt;, &lt;AxesSubplot:&gt;],\n",
       "        [&lt;AxesSubplot:xlabel=&#39;onshift_dashers&#39;, ylabel=&#39;subtotal_log&#39;&gt;,\n",
       "         &lt;AxesSubplot:xlabel=&#39;onshift_dashers&#39;, ylabel=&#39;Count&#39;&gt;,\n",
       "         &lt;AxesSubplot:&gt;, &lt;AxesSubplot:&gt;, &lt;AxesSubplot:&gt;],\n",
       "        [&lt;AxesSubplot:xlabel=&#39;driving_duration_log&#39;, ylabel=&#39;subtotal_log&#39;&gt;,\n",
       "         &lt;AxesSubplot:xlabel=&#39;driving_duration_log&#39;, ylabel=&#39;onshift_dashers&#39;&gt;,\n",
       "         &lt;AxesSubplot:xlabel=&#39;driving_duration_log&#39;, ylabel=&#39;Count&#39;&gt;,\n",
       "         &lt;AxesSubplot:&gt;, &lt;AxesSubplot:&gt;],\n",
       "        [&lt;AxesSubplot:xlabel=&#39;delivery_time&#39;, ylabel=&#39;subtotal_log&#39;&gt;,\n",
       "         &lt;AxesSubplot:xlabel=&#39;delivery_time&#39;, ylabel=&#39;onshift_dashers&#39;&gt;,\n",
       "         &lt;AxesSubplot:xlabel=&#39;delivery_time&#39;, ylabel=&#39;driving_duration_log&#39;&gt;,\n",
       "         &lt;AxesSubplot:xlabel=&#39;delivery_time&#39;, ylabel=&#39;Count&#39;&gt;,\n",
       "         &lt;AxesSubplot:&gt;],\n",
       "        [&lt;AxesSubplot:xlabel=&#39;delivery_time_log&#39;, ylabel=&#39;subtotal_log&#39;&gt;,\n",
       "         &lt;AxesSubplot:xlabel=&#39;delivery_time_log&#39;, ylabel=&#39;onshift_dashers&#39;&gt;,\n",
       "         &lt;AxesSubplot:xlabel=&#39;delivery_time_log&#39;, ylabel=&#39;driving_duration_log&#39;&gt;,\n",
       "         &lt;AxesSubplot:xlabel=&#39;delivery_time_log&#39;, ylabel=&#39;delivery_time&#39;&gt;,\n",
       "         &lt;AxesSubplot:xlabel=&#39;delivery_time_log&#39;, ylabel=&#39;Count&#39;&gt;]],\n",
       "       dtype=object))</div>"
      ]
     },
     "metadata": {
      "application/vnd.databricks.v1+output": {
       "addedWidgets": {},
       "arguments": {},
       "data": "<div class=\"ansiout\">(&lt;Figure size 720x576 with 25 Axes&gt;,\n array([[&lt;AxesSubplot:xlabel=&#39;subtotal_log&#39;, ylabel=&#39;Count&#39;&gt;,\n         &lt;AxesSubplot:&gt;, &lt;AxesSubplot:&gt;, &lt;AxesSubplot:&gt;, &lt;AxesSubplot:&gt;],\n        [&lt;AxesSubplot:xlabel=&#39;onshift_dashers&#39;, ylabel=&#39;subtotal_log&#39;&gt;,\n         &lt;AxesSubplot:xlabel=&#39;onshift_dashers&#39;, ylabel=&#39;Count&#39;&gt;,\n         &lt;AxesSubplot:&gt;, &lt;AxesSubplot:&gt;, &lt;AxesSubplot:&gt;],\n        [&lt;AxesSubplot:xlabel=&#39;driving_duration_log&#39;, ylabel=&#39;subtotal_log&#39;&gt;,\n         &lt;AxesSubplot:xlabel=&#39;driving_duration_log&#39;, ylabel=&#39;onshift_dashers&#39;&gt;,\n         &lt;AxesSubplot:xlabel=&#39;driving_duration_log&#39;, ylabel=&#39;Count&#39;&gt;,\n         &lt;AxesSubplot:&gt;, &lt;AxesSubplot:&gt;],\n        [&lt;AxesSubplot:xlabel=&#39;delivery_time&#39;, ylabel=&#39;subtotal_log&#39;&gt;,\n         &lt;AxesSubplot:xlabel=&#39;delivery_time&#39;, ylabel=&#39;onshift_dashers&#39;&gt;,\n         &lt;AxesSubplot:xlabel=&#39;delivery_time&#39;, ylabel=&#39;driving_duration_log&#39;&gt;,\n         &lt;AxesSubplot:xlabel=&#39;delivery_time&#39;, ylabel=&#39;Count&#39;&gt;,\n         &lt;AxesSubplot:&gt;],\n        [&lt;AxesSubplot:xlabel=&#39;delivery_time_log&#39;, ylabel=&#39;subtotal_log&#39;&gt;,\n         &lt;AxesSubplot:xlabel=&#39;delivery_time_log&#39;, ylabel=&#39;onshift_dashers&#39;&gt;,\n         &lt;AxesSubplot:xlabel=&#39;delivery_time_log&#39;, ylabel=&#39;driving_duration_log&#39;&gt;,\n         &lt;AxesSubplot:xlabel=&#39;delivery_time_log&#39;, ylabel=&#39;delivery_time&#39;&gt;,\n         &lt;AxesSubplot:xlabel=&#39;delivery_time_log&#39;, ylabel=&#39;Count&#39;&gt;]],\n       dtype=object))</div>",
       "datasetInfos": [],
       "metadata": {},
       "removedWidgets": [],
       "type": "html"
      }
     },
     "output_type": "display_data"
    }
   ],
   "source": [
    "cols=['subtotal_log', 'onshift_dashers', 'driving_duration_log', 'delivery_time', 'delivery_time_log']\n",
    "dfsample=df.sample(frac=0.01)\n",
    "scatterplotmatrix(dfsample[cols].values, figsize=(10, 8), names=cols, alpha=0.5)\n",
    "plt.tight_layout()\n",
    "#plt.savefig('images/10_03.png', dpi=300)\n",
    "plt.show()"
   ]
  },
  {
   "cell_type": "markdown",
   "metadata": {
    "application/vnd.databricks.v1+cell": {
     "inputWidgets": {},
     "nuid": "b2b81324-b450-4b66-a51c-fd23372af4c8",
     "showTitle": false,
     "title": ""
    }
   },
   "source": [
    "## Prepare Training and Test Data\n",
    "\n",
    "Split dataset into separate training and test datasets, where we will use the former to fit the model and the latter to evaluate its performance. Also we do a feature scaling to standardize our features. Standardization will make it easier for us to check and compare the coefficeints in the model and in some way imdicates the variable importance. \n",
    "\n",
    "'dayofmonth' feature is not included in modeling because historical data covers from day 1 to day 30 whereas predict data only covers a couple of days in the month."
   ]
  },
  {
   "cell_type": "code",
   "execution_count": 12,
   "metadata": {
    "application/vnd.databricks.v1+cell": {
     "inputWidgets": {},
     "nuid": "0915b028-4de9-43bf-b8f7-d786073340af",
     "showTitle": false,
     "title": ""
    }
   },
   "outputs": [
    {
     "data": {
      "text/plain": [
       "StandardScaler()"
      ]
     },
     "execution_count": 12,
     "metadata": {},
     "output_type": "execute_result"
    }
   ],
   "source": [
    "\n",
    "feature_cols = ['busy_dashers_pct', 'subtotal', 'orders', 'driving_duration', 'evening', 'dayofweek', 'market_id1','market_id2', 'market_id3','market_id4','market_id5','market_id6']\n",
    "\n",
    "target_col='delivery_time_log'\n",
    "X, y = df.loc[:, feature_cols], df.loc[:, target_col]\n",
    "\n",
    "X=X.reset_index(drop=True)\n",
    "y=y.reset_index(drop=True)\n",
    "\n",
    "X_train, X_test, y_train, y_test = train_test_split(\n",
    "    X, y, test_size=0.2, random_state=42)\n",
    "\n",
    "#scaler = RobustScaler()\n",
    "scaler = StandardScaler()\n",
    "scaler.fit(X_train)\n",
    "X_train = scaler.transform(X_train)\n",
    "X_test = scaler.transform(X_test)"
   ]
  },
  {
   "cell_type": "markdown",
   "metadata": {
    "application/vnd.databricks.v1+cell": {
     "inputWidgets": {},
     "nuid": "a0d5f579-6182-412b-ab30-ed3805025b8c",
     "showTitle": false,
     "title": ""
    }
   },
   "source": [
    "## Model Fitting and Performance measure\n",
    "\n",
    "Order lateness/underprediction of delivery time is of particular concern as past experiments suggest that underestimating delivery time is roughly twice as costly as overestimating it. So in addition to the MAE and R2 measure, we also define two lateness measures:\n",
    "\n",
    "* More than 5 minutes late: the percentage of predicted delivery time is more than 5 minutes late than actual delivery\n",
    "* More than 10 minutes late: the percentage of predicted delivery time is more than 10 minutes late than actual delivery\n",
    "\n",
    "The smaller the two lateness measures, the better our model performance."
   ]
  },
  {
   "cell_type": "code",
   "execution_count": 13,
   "metadata": {
    "application/vnd.databricks.v1+cell": {
     "inputWidgets": {},
     "nuid": "95a5751e-e630-4feb-876e-d7ffeda04e4f",
     "showTitle": false,
     "title": ""
    }
   },
   "outputs": [],
   "source": [
    "def model_train_perf(model, title):\n",
    "\n",
    "    model.fit(X_train, y_train)\n",
    "    y_train_pred = model.predict(X_train)\n",
    "    y_test_pred = model.predict(X_test)\n",
    "\n",
    "    #mae_train=mean_absolute_error(y_train, y_train_pred)\n",
    "    #mae_test= mean_absolute_error(y_test, y_test_pred)\n",
    "\n",
    "    mae_train = np.abs(np.power(10, y_train) -\n",
    "                       np.power(10, y_train_pred)).mean()\n",
    "    mae_test = np.abs(np.power(10, y_test) - np.power(10, y_test_pred)).mean()\n",
    "\n",
    "    r2_train = r2_score(y_train, y_train_pred)\n",
    "    r2_test = r2_score(y_test, y_test_pred)\n",
    "\n",
    "    late_5min_train = np.where(\n",
    "        (np.power(10, y_train) - np.power(10, y_train_pred)) > 300, 1, 0).mean()\n",
    "    late_5min_test = np.where(\n",
    "        (np.power(10, y_test) - np.power(10, y_test_pred)) > 300, 1, 0).mean()\n",
    "\n",
    "    late_10min_train = np.where(\n",
    "        (np.power(10, y_train) - np.power(10, y_train_pred)) > 600, 1, 0).mean()\n",
    "    late_10min_test = np.where(\n",
    "        (np.power(10, y_test) - np.power(10, y_test_pred)) > 600, 1, 0).mean()\n",
    "\n",
    "    plt.scatter(y_train_pred,  y_train_pred - y_train,\n",
    "                c='steelblue', marker='o', edgecolor='white',\n",
    "                label=f'Training,  $R^2={r2_train:.3f}$')\n",
    "    plt.scatter(y_test_pred,  y_test_pred - y_test,\n",
    "                c='limegreen', marker='s', edgecolor='white',\n",
    "                label=f'Test,  $R^2={r2_test:.3f}$')\n",
    "    plt.xlabel('Predicted values')\n",
    "    plt.ylabel('Residuals')\n",
    "    plt.legend(loc='upper left')\n",
    "    plt.axhline(y=0, xmin=0, xmax=1, color='black', lw=2)\n",
    "    plt.title(title)\n",
    "    plt.tight_layout()\n",
    "    plt.show()\n",
    "\n",
    "    print('MAE train: %.3f, test: %.3f' % (mae_train, mae_test))\n",
    "    print('R^2 train: %.3f, test: %.3f' % (r2_train, r2_test))\n",
    "\n",
    "    print('More than 5 mins late: {:6.2%}, test: {:6.2%}' .format(\n",
    "        late_5min_train,   late_5min_test))\n",
    "    print('More than 10 mins late: {:6.2%}, test: {:6.2%}' .format(\n",
    "        late_10min_train,   late_10min_test))\n",
    "    return"
   ]
  },
  {
   "cell_type": "markdown",
   "metadata": {
    "application/vnd.databricks.v1+cell": {
     "inputWidgets": {},
     "nuid": "0eab73cc-9c50-4133-9c38-04f98779c2b4",
     "showTitle": false,
     "title": ""
    }
   },
   "source": [
    "### Baseline Model\n",
    "\n",
    "LASSO acts a baseline model here as it forces the coefficients to zeroes and make the prediction at ybar. The MAE for test dataset is 805 seconds. The more than 5 mins lateness for test dataset is 37.77% and 10 mins lateness for test dataset is 27.94%."
   ]
  },
  {
   "cell_type": "code",
   "execution_count": 14,
   "metadata": {
    "application/vnd.databricks.v1+cell": {
     "inputWidgets": {},
     "nuid": "4e4ed5ad-f66b-4225-a32a-46aa0fb3d684",
     "showTitle": false,
     "title": ""
    }
   },
   "outputs": [
    {
     "data": {
      "image/png": "[encoded data removed]",
      "text/plain": [
       "<Figure size 432x288 with 1 Axes>"
      ]
     },
     "metadata": {
      "needs_background": "light"
     },
     "output_type": "display_data"
    },
    {
     "name": "stdout",
     "output_type": "stream",
     "text": [
      "MAE train: 808.160, test: 804.806\n",
      "R^2 train: 0.000, test: -0.000\n",
      "More than 5 mins late: 37.42%, test: 37.77%\n",
      "More than 10 mins late: 27.77%, test: 27.94%\n"
     ]
    }
   ],
   "source": [
    "lasso =Lasso(alpha=0.5)\n",
    "model_train_perf(model=lasso, title='Baseline Model')"
   ]
  },
  {
   "cell_type": "markdown",
   "metadata": {
    "application/vnd.databricks.v1+cell": {
     "inputWidgets": {},
     "nuid": "54e25b61-f5e8-4d36-98f1-2036c5e1e08b",
     "showTitle": false,
     "title": ""
    }
   },
   "source": [
    "### Linear Regression Model\n",
    "\n",
    "Linear Regression model performs better than the baseline model. The MAE for test dataset is 719 seconds The more than 5 mins lateness for test dataset is 34.52% and 10 mins lateness for test dataset is 24.67%. Linear Regression model reduces the MAE and lateness by 10%."
   ]
  },
  {
   "cell_type": "code",
   "execution_count": 0,
   "metadata": {
    "application/vnd.databricks.v1+cell": {
     "inputWidgets": {},
     "nuid": "21a7e58d-1eb5-4d04-bf59-ad452ce01730",
     "showTitle": false,
     "title": ""
    }
   },
   "outputs": [
    {
     "data": {
      "image/png": "[encoded data removed]"
     },
     "metadata": {
      "application/vnd.databricks.v1+output": {
       "addedWidgets": {},
       "arguments": {},
       "data": "data:image/png;base64,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",
       "datasetInfos": [],
       "metadata": {
        "imageDimensions": {
         "height": 280,
         "width": 424
        }
       },
       "removedWidgets": [],
       "type": "image"
      },
      "image/png": {
       "height": 280,
       "width": 424
      }
     },
     "output_type": "display_data"
    },
    {
     "data": {
      "text/html": [
       "<style scoped>\n",
       "  .ansiout {\n",
       "    display: block;\n",
       "    unicode-bidi: embed;\n",
       "    white-space: pre-wrap;\n",
       "    word-wrap: break-word;\n",
       "    word-break: break-all;\n",
       "    font-family: \"Source Code Pro\", \"Menlo\", monospace;;\n",
       "    font-size: 13px;\n",
       "    color: #555;\n",
       "    margin-left: 4px;\n",
       "    line-height: 19px;\n",
       "  }\n",
       "</style>\n",
       "<div class=\"ansiout\">MAE train: 724.580, test: 719.467\n",
       "R^2 train: 0.198, test: 0.204\n",
       "More than 5 mins late: 34.74%, test: 34.52%\n",
       "More than 10 mins late: 24.74%, test: 24.67%\n",
       "Out[48]: {&#39;fit_intercept&#39;: True,\n",
       " &#39;normalize&#39;: False,\n",
       " &#39;copy_X&#39;: True,\n",
       " &#39;n_jobs&#39;: None,\n",
       " &#39;positive&#39;: False,\n",
       " &#39;n_features_in_&#39;: 12,\n",
       " &#39;coef_&#39;: array([0.01, 0.03, 0.04, 0.04, 0.01, 0.01, 0.02, -0.02, 0.01, -0.01, 0.01,\n",
       "        -0.00]),\n",
       " &#39;_residues&#39;: 3153.308039389867,\n",
       " &#39;rank_&#39;: 12,\n",
       " &#39;singular_&#39;: array([538.21, 465.41, 438.43, 427.82, 420.10, 416.48, 400.26, 393.25,\n",
       "        383.60, 365.41, 259.22, 31.81]),\n",
       " &#39;intercept_&#39;: 3.427342468733808}</div>"
      ]
     },
     "metadata": {
      "application/vnd.databricks.v1+output": {
       "addedWidgets": {},
       "arguments": {},
       "data": "<div class=\"ansiout\">MAE train: 724.580, test: 719.467\nR^2 train: 0.198, test: 0.204\nMore than 5 mins late: 34.74%, test: 34.52%\nMore than 10 mins late: 24.74%, test: 24.67%\nOut[48]: {&#39;fit_intercept&#39;: True,\n &#39;normalize&#39;: False,\n &#39;copy_X&#39;: True,\n &#39;n_jobs&#39;: None,\n &#39;positive&#39;: False,\n &#39;n_features_in_&#39;: 12,\n &#39;coef_&#39;: array([0.01, 0.03, 0.04, 0.04, 0.01, 0.01, 0.02, -0.02, 0.01, -0.01, 0.01,\n        -0.00]),\n &#39;_residues&#39;: 3153.308039389867,\n &#39;rank_&#39;: 12,\n &#39;singular_&#39;: array([538.21, 465.41, 438.43, 427.82, 420.10, 416.48, 400.26, 393.25,\n        383.60, 365.41, 259.22, 31.81]),\n &#39;intercept_&#39;: 3.427342468733808}</div>",
       "datasetInfos": [],
       "metadata": {},
       "removedWidgets": [],
       "type": "html"
      }
     },
     "output_type": "display_data"
    }
   ],
   "source": [
    "lr = LinearRegression()\n",
    "model_train_perf(model=lr, title='Linear Regression')\n",
    "vars(lr)"
   ]
  },
  {
   "cell_type": "markdown",
   "metadata": {
    "application/vnd.databricks.v1+cell": {
     "inputWidgets": {},
     "nuid": "7b8560cf-40dc-4c08-b5b9-51e6ac04c554",
     "showTitle": false,
     "title": ""
    }
   },
   "source": [
    "### Decision Tree Model\n",
    "\n",
    "Decision Tree Regression model is only slightly better than the baseline model. The MAE for test dataset is 733 seconds The more than 5 mins lateness for test dataset is 35.38% and 10 mins lateness for test dataset is 25.15%. Decision Tree model reduces the MAE and lateness by 9%."
   ]
  },
  {
   "cell_type": "code",
   "execution_count": 0,
   "metadata": {
    "application/vnd.databricks.v1+cell": {
     "inputWidgets": {},
     "nuid": "883ead29-de9a-474a-9a78-a4e35a24fa63",
     "showTitle": false,
     "title": ""
    }
   },
   "outputs": [
    {
     "data": {
      "image/png": "[encoded data removed]"
     },
     "metadata": {
      "application/vnd.databricks.v1+output": {
       "addedWidgets": {},
       "arguments": {},
       "data": "data:image/png;base64,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",
       "datasetInfos": [],
       "metadata": {
        "imageDimensions": {
         "height": 280,
         "width": 424
        }
       },
       "removedWidgets": [],
       "type": "image"
      },
      "image/png": {
       "height": 280,
       "width": 424
      }
     },
     "output_type": "display_data"
    },
    {
     "data": {
      "text/html": [
       "<style scoped>\n",
       "  .ansiout {\n",
       "    display: block;\n",
       "    unicode-bidi: embed;\n",
       "    white-space: pre-wrap;\n",
       "    word-wrap: break-word;\n",
       "    word-break: break-all;\n",
       "    font-family: \"Source Code Pro\", \"Menlo\", monospace;;\n",
       "    font-size: 13px;\n",
       "    color: #555;\n",
       "    margin-left: 4px;\n",
       "    line-height: 19px;\n",
       "  }\n",
       "</style>\n",
       "<div class=\"ansiout\">MAE train: 736.000, test: 733.061\n",
       "R^2 train: 0.171, test: 0.169\n",
       "More than 5 mins late: 35.42%, test: 35.38%\n",
       "More than 10 mins late: 25.26%, test: 25.15%\n",
       "</div>"
      ]
     },
     "metadata": {
      "application/vnd.databricks.v1+output": {
       "addedWidgets": {},
       "arguments": {},
       "data": "<div class=\"ansiout\">MAE train: 736.000, test: 733.061\nR^2 train: 0.171, test: 0.169\nMore than 5 mins late: 35.42%, test: 35.38%\nMore than 10 mins late: 25.26%, test: 25.15%\n</div>",
       "datasetInfos": [],
       "metadata": {},
       "removedWidgets": [],
       "type": "html"
      }
     },
     "output_type": "display_data"
    }
   ],
   "source": [
    "dtree =DecisionTreeRegressor(max_depth=5)\n",
    "model_train_perf(model=dtree, title='Decision Tree')"
   ]
  },
  {
   "cell_type": "markdown",
   "metadata": {
    "application/vnd.databricks.v1+cell": {
     "inputWidgets": {},
     "nuid": "7aee9da2-0cd8-4861-9d81-9f865ae19bbd",
     "showTitle": false,
     "title": ""
    }
   },
   "source": [
    "### Random Forest Model\n",
    "\n",
    "Random Forest model performs better than the baseline model. The MAE for test dataset is 696 seconds The more than 5 mins lateness for test dataset is 34.49% and 10 mins lateness for test dataset is 24.06%. Random Forest model reduces the MAE by 12.5% and lateness by 10%."
   ]
  },
  {
   "cell_type": "code",
   "execution_count": 0,
   "metadata": {
    "application/vnd.databricks.v1+cell": {
     "inputWidgets": {},
     "nuid": "80fab161-7fe1-480a-9440-f6a4d7fcec1b",
     "showTitle": false,
     "title": ""
    }
   },
   "outputs": [
    {
     "data": {
      "image/png": "[encoded data removed]"
     },
     "metadata": {
      "application/vnd.databricks.v1+output": {
       "addedWidgets": {},
       "arguments": {},
       "data": "data:image/png;base64,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",
       "datasetInfos": [],
       "metadata": {
        "imageDimensions": {
         "height": 280,
         "width": 424
        }
       },
       "removedWidgets": [],
       "type": "image"
      },
      "image/png": {
       "height": 280,
       "width": 424
      }
     },
     "output_type": "display_data"
    },
    {
     "data": {
      "text/html": [
       "<style scoped>\n",
       "  .ansiout {\n",
       "    display: block;\n",
       "    unicode-bidi: embed;\n",
       "    white-space: pre-wrap;\n",
       "    word-wrap: break-word;\n",
       "    word-break: break-all;\n",
       "    font-family: \"Source Code Pro\", \"Menlo\", monospace;;\n",
       "    font-size: 13px;\n",
       "    color: #555;\n",
       "    margin-left: 4px;\n",
       "    line-height: 19px;\n",
       "  }\n",
       "</style>\n",
       "<div class=\"ansiout\">MAE train: 681.526, test: 696.940\n",
       "R^2 train: 0.290, test: 0.251\n",
       "More than 5 mins late: 34.25%, test: 34.49%\n",
       "More than 10 mins late: 23.81%, test: 24.06%\n",
       "</div>"
      ]
     },
     "metadata": {
      "application/vnd.databricks.v1+output": {
       "addedWidgets": {},
       "arguments": {},
       "data": "<div class=\"ansiout\">MAE train: 681.526, test: 696.940\nR^2 train: 0.290, test: 0.251\nMore than 5 mins late: 34.25%, test: 34.49%\nMore than 10 mins late: 23.81%, test: 24.06%\n</div>",
       "datasetInfos": [],
       "metadata": {},
       "removedWidgets": [],
       "type": "html"
      }
     },
     "output_type": "display_data"
    }
   ],
   "source": [
    "rf =RandomForestRegressor(n_estimators=1000, \n",
    "                              max_depth=10,\n",
    "                               criterion='mse', \n",
    "                               random_state=1, \n",
    "                               n_jobs=-1)\n",
    "model_train_perf(model=rf, title='Random Forest')"
   ]
  },
  {
   "cell_type": "markdown",
   "metadata": {
    "application/vnd.databricks.v1+cell": {
     "inputWidgets": {},
     "nuid": "804b5457-0c3a-44eb-b93b-59e0b1d41155",
     "showTitle": false,
     "title": ""
    }
   },
   "source": [
    "### Gradient Boosting Model\n",
    "\n",
    "Gradient Boosting model performs as well as, if not better than Random Forest model. The MAE for test dataset is 696 seconds The more than 5 mins lateness for test dataset is 34.38% and 10 mins lateness for test dataset is 24.13%. Gradient Boosting model reduces the MAE by 12.5% and lateness by 10%."
   ]
  },
  {
   "cell_type": "code",
   "execution_count": 16,
   "metadata": {
    "application/vnd.databricks.v1+cell": {
     "inputWidgets": {},
     "nuid": "e9cc0148-5e5b-436e-8f1b-895a8868ea26",
     "showTitle": false,
     "title": ""
    }
   },
   "outputs": [
    {
     "data": {
      "image/png": "[encoded data removed]",
      "text/plain": [
       "<Figure size 432x288 with 1 Axes>"
      ]
     },
     "metadata": {
      "needs_background": "light"
     },
     "output_type": "display_data"
    },
    {
     "name": "stdout",
     "output_type": "stream",
     "text": [
      "MAE train: 698.736, test: 696.570\n",
      "R^2 train: 0.256, test: 0.253\n",
      "More than 5 mins late: 34.47%, test: 34.38%\n",
      "More than 10 mins late: 24.11%, test: 24.13%\n"
     ]
    }
   ],
   "source": [
    "gbr =GradientBoostingRegressor()\n",
    "model_train_perf(model=gbr, title='Gradient Boosting')"
   ]
  },
  {
   "cell_type": "markdown",
   "metadata": {
    "application/vnd.databricks.v1+cell": {
     "inputWidgets": {},
     "nuid": "804b5457-0c3a-44eb-b93b-59e0b1d41155",
     "showTitle": false,
     "title": ""
    }
   },
   "source": [
    "### XGBoost Model\n",
    "\n",
    "XGBoost is a more regularized form of Gradient Boosting. XGBoost uses advanced regularization (L1 & L2), which improves model generalization capabilities. XGBoost delivers high performance as compared to Gradient Boosting. Its training is very fast and can be parallelized across clusters."
   ]
  },
  {
   "cell_type": "code",
   "execution_count": 15,
   "metadata": {},
   "outputs": [
    {
     "data": {
      "image/png": "[encoded data removed]",
      "text/plain": [
       "<Figure size 432x288 with 1 Axes>"
      ]
     },
     "metadata": {
      "needs_background": "light"
     },
     "output_type": "display_data"
    },
    {
     "name": "stdout",
     "output_type": "stream",
     "text": [
      "MAE train: 717.905, test: 715.700\n",
      "R^2 train: 0.211, test: 0.208\n",
      "More than 5 mins late: 34.94%, test: 35.08%\n",
      "More than 10 mins late: 24.82%, test: 24.60%\n"
     ]
    }
   ],
   "source": [
    "import xgboost as xgb\n",
    "from xgboost import XGBClassifier, XGBRFRegressor\n",
    "xb = XGBRFRegressor()\n",
    "model_train_perf(model=xb, title='XGBoost')"
   ]
  },
  {
   "cell_type": "markdown",
   "metadata": {
    "application/vnd.databricks.v1+cell": {
     "inputWidgets": {},
     "nuid": "3c9269aa-d76e-459b-aa54-82f7166dde2e",
     "showTitle": false,
     "title": ""
    }
   },
   "source": [
    "## Best Model and Feature Importance\n",
    "We can see both Randmo Forest model and Gradient Boosting model performs very well and similarly. We will choose Gradient Boosting as our best model because its performance is more stabe across training and test datasets and less overfitting. \n",
    "\n",
    "The feature importance plot shows the 'estimated_store_to_consumer_driving_duration' is the most important driver, which is reasonable as it is prediction from other models for various stages of delivery process."
   ]
  },
  {
   "cell_type": "code",
   "execution_count": 0,
   "metadata": {
    "application/vnd.databricks.v1+cell": {
     "inputWidgets": {},
     "nuid": "94f78040-8007-4c6c-a614-600d6b2b74a7",
     "showTitle": false,
     "title": ""
    }
   },
   "outputs": [
    {
     "data": {
      "text/html": [
       "<style scoped>\n",
       "  .ansiout {\n",
       "    display: block;\n",
       "    unicode-bidi: embed;\n",
       "    white-space: pre-wrap;\n",
       "    word-wrap: break-word;\n",
       "    word-break: break-all;\n",
       "    font-family: \"Source Code Pro\", \"Menlo\", monospace;;\n",
       "    font-size: 13px;\n",
       "    color: #555;\n",
       "    margin-left: 4px;\n",
       "    line-height: 19px;\n",
       "  }\n",
       "</style>\n",
       "<div class=\"ansiout\">Out[62]: Out[62]: Out[62]: </div>"
      ]
     },
     "metadata": {
      "application/vnd.databricks.v1+output": {
       "addedWidgets": {},
       "arguments": {},
       "data": "<div class=\"ansiout\">Out[62]: Out[62]: Out[62]: </div>",
       "datasetInfos": [],
       "metadata": {},
       "removedWidgets": [],
       "type": "html"
      }
     },
     "output_type": "display_data"
    },
    {
     "data": {
      "image/png": "[encoded data removed]"
     },
     "metadata": {
      "application/vnd.databricks.v1+output": {
       "addedWidgets": {},
       "arguments": {},
       "data": "data:image/png;base64,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",
       "datasetInfos": [],
       "metadata": {
        "imageDimensions": {
         "height": 424,
         "width": 856
        }
       },
       "removedWidgets": [],
       "type": "image"
      },
      "image/png": {
       "height": 424,
       "width": 856
      }
     },
     "output_type": "display_data"
    },
    {
     "data": {
      "text/html": [
       "<style scoped>\n",
       "  .ansiout {\n",
       "    display: block;\n",
       "    unicode-bidi: embed;\n",
       "    white-space: pre-wrap;\n",
       "    word-wrap: break-word;\n",
       "    word-break: break-all;\n",
       "    font-family: \"Source Code Pro\", \"Menlo\", monospace;;\n",
       "    font-size: 13px;\n",
       "    color: #555;\n",
       "    margin-left: 4px;\n",
       "    line-height: 19px;\n",
       "  }\n",
       "</style>\n",
       "<div class=\"ansiout\">Text(0.5, 1.0, &#39;Feature Importance &#39;)</div>"
      ]
     },
     "metadata": {
      "application/vnd.databricks.v1+output": {
       "addedWidgets": {},
       "arguments": {},
       "data": "<div class=\"ansiout\">Text(0.5, 1.0, &#39;Feature Importance &#39;)</div>",
       "datasetInfos": [],
       "metadata": {},
       "removedWidgets": [],
       "type": "html"
      }
     },
     "output_type": "display_data"
    }
   ],
   "source": [
    "from sklearn.inspection import permutation_importance\n",
    "feature_importance = gbr.feature_importances_\n",
    "sorted_idx = np.argsort(feature_importance)\n",
    "pos = np.arange(sorted_idx.shape[0]) + 0.5\n",
    "fig = plt.figure(figsize=(12, 6))\n",
    "plt.barh(pos, feature_importance[sorted_idx], align=\"center\")\n",
    "plt.yticks(pos, np.array(feature_cols)[sorted_idx])\n",
    "plt.title(\"Feature Importance \")\n",
    "fig.tight_layout()\n",
    "plt.show()"
   ]
  },
  {
   "cell_type": "markdown",
   "metadata": {
    "application/vnd.databricks.v1+cell": {
     "inputWidgets": {},
     "nuid": "e8aa5a84-ae3d-4945-81c7-73f93fc92f56",
     "showTitle": false,
     "title": ""
    }
   },
   "source": [
    "## Load Predict Data"
   ]
  },
  {
   "cell_type": "code",
   "execution_count": 0,
   "metadata": {
    "application/vnd.databricks.v1+cell": {
     "inputWidgets": {},
     "nuid": "678154ba-3092-4f60-bdec-d3865de28571",
     "showTitle": false,
     "title": ""
    }
   },
   "outputs": [
    {
     "data": {
      "text/html": [
       "<style scoped>\n",
       "  .ansiout {\n",
       "    display: block;\n",
       "    unicode-bidi: embed;\n",
       "    white-space: pre-wrap;\n",
       "    word-wrap: break-word;\n",
       "    word-break: break-all;\n",
       "    font-family: \"Source Code Pro\", \"Menlo\", monospace;;\n",
       "    font-size: 13px;\n",
       "    color: #555;\n",
       "    margin-left: 4px;\n",
       "    line-height: 19px;\n",
       "  }\n",
       "</style>\n",
       "<div class=\"ansiout\">&lt;class &#39;pandas.core.frame.DataFrame&#39;&gt;\n",
       "RangeIndex: 54778 entries, 0 to 54777\n",
       "Data columns (total 9 columns):\n",
       " #   Column                                        Non-Null Count  Dtype         \n",
       "---  ------                                        --------------  -----         \n",
       " 0   market_id                                     54528 non-null  float64       \n",
       " 1   created_at                                    54778 non-null  datetime64[ns]\n",
       " 2   store_id                                      54778 non-null  int64         \n",
       " 3   subtotal                                      54778 non-null  int64         \n",
       " 4   total_onshift_dashers                         50145 non-null  float64       \n",
       " 5   total_busy_dashers                            50145 non-null  float64       \n",
       " 6   total_outstanding_orders                      50145 non-null  float64       \n",
       " 7   estimated_store_to_consumer_driving_duration  54767 non-null  float64       \n",
       " 8   delivery_id                                   54778 non-null  int64         \n",
       "dtypes: datetime64[ns](1), float64(5), int64(3)\n",
       "memory usage: 3.8 MB\n",
       "None\n",
       "market_id                                        250\n",
       "created_at                                         0\n",
       "store_id                                           0\n",
       "subtotal                                           0\n",
       "total_onshift_dashers                           4633\n",
       "total_busy_dashers                              4633\n",
       "total_outstanding_orders                        4633\n",
       "estimated_store_to_consumer_driving_duration      11\n",
       "delivery_id                                        0\n",
       "dtype: int64\n",
       "Out[28]: </div>"
      ]
     },
     "metadata": {
      "application/vnd.databricks.v1+output": {
       "addedWidgets": {},
       "arguments": {},
       "data": "<div class=\"ansiout\">&lt;class &#39;pandas.core.frame.DataFrame&#39;&gt;\nRangeIndex: 54778 entries, 0 to 54777\nData columns (total 9 columns):\n #   Column                                        Non-Null Count  Dtype         \n---  ------                                        --------------  -----         \n 0   market_id                                     54528 non-null  float64       \n 1   created_at                                    54778 non-null  datetime64[ns]\n 2   store_id                                      54778 non-null  int64         \n 3   subtotal                                      54778 non-null  int64         \n 4   total_onshift_dashers                         50145 non-null  float64       \n 5   total_busy_dashers                            50145 non-null  float64       \n 6   total_outstanding_orders                      50145 non-null  float64       \n 7   estimated_store_to_consumer_driving_duration  54767 non-null  float64       \n 8   delivery_id                                   54778 non-null  int64         \ndtypes: datetime64[ns](1), float64(5), int64(3)\nmemory usage: 3.8 MB\nNone\nmarket_id                                        250\ncreated_at                                         0\nstore_id                                           0\nsubtotal                                           0\ntotal_onshift_dashers                           4633\ntotal_busy_dashers                              4633\ntotal_outstanding_orders                        4633\nestimated_store_to_consumer_driving_duration      11\ndelivery_id                                        0\ndtype: int64\nOut[28]: </div>",
       "datasetInfos": [],
       "metadata": {},
       "removedWidgets": [],
       "type": "html"
      }
     },
     "output_type": "display_data"
    },
    {
     "data": {
      "text/html": [
       "<div>\n",
       "<style scoped>\n",
       "    .dataframe tbody tr th:only-of-type {\n",
       "        vertical-align: middle;\n",
       "    }\n",
       "\n",
       "    .dataframe tbody tr th {\n",
       "        vertical-align: top;\n",
       "    }\n",
       "\n",
       "    .dataframe thead th {\n",
       "        text-align: right;\n",
       "    }\n",
       "</style>\n",
       "<table border=\"1\" class=\"dataframe\">\n",
       "  <thead>\n",
       "    <tr style=\"text-align: right;\">\n",
       "      <th></th>\n",
       "      <th>count</th>\n",
       "      <th>mean</th>\n",
       "      <th>std</th>\n",
       "      <th>min</th>\n",
       "      <th>25%</th>\n",
       "      <th>50%</th>\n",
       "      <th>75%</th>\n",
       "      <th>max</th>\n",
       "    </tr>\n",
       "  </thead>\n",
       "  <tbody>\n",
       "    <tr>\n",
       "      <th>market_id</th>\n",
       "      <td>54,528.00</td>\n",
       "      <td>3.03</td>\n",
       "      <td>1.53</td>\n",
       "      <td>1.00</td>\n",
       "      <td>2.00</td>\n",
       "      <td>3.00</td>\n",
       "      <td>4.00</td>\n",
       "      <td>6.00</td>\n",
       "    </tr>\n",
       "    <tr>\n",
       "      <th>store_id</th>\n",
       "      <td>54,778.00</td>\n",
       "      <td>3,489.64</td>\n",
       "      <td>2,050.22</td>\n",
       "      <td>2.00</td>\n",
       "      <td>1,661.00</td>\n",
       "      <td>3,518.00</td>\n",
       "      <td>5,247.00</td>\n",
       "      <td>6,986.00</td>\n",
       "    </tr>\n",
       "    <tr>\n",
       "      <th>subtotal</th>\n",
       "      <td>54,778.00</td>\n",
       "      <td>2,715.76</td>\n",
       "      <td>1,897.92</td>\n",
       "      <td>0.00</td>\n",
       "      <td>1,420.00</td>\n",
       "      <td>2,220.00</td>\n",
       "      <td>3,415.00</td>\n",
       "      <td>29,925.00</td>\n",
       "    </tr>\n",
       "    <tr>\n",
       "      <th>total_onshift_dashers</th>\n",
       "      <td>50,145.00</td>\n",
       "      <td>49.08</td>\n",
       "      <td>37.59</td>\n",
       "      <td>-1.00</td>\n",
       "      <td>19.00</td>\n",
       "      <td>41.00</td>\n",
       "      <td>71.00</td>\n",
       "      <td>175.00</td>\n",
       "    </tr>\n",
       "    <tr>\n",
       "      <th>total_busy_dashers</th>\n",
       "      <td>50,145.00</td>\n",
       "      <td>43.52</td>\n",
       "      <td>34.05</td>\n",
       "      <td>-4.00</td>\n",
       "      <td>16.00</td>\n",
       "      <td>36.00</td>\n",
       "      <td>63.00</td>\n",
       "      <td>169.00</td>\n",
       "    </tr>\n",
       "    <tr>\n",
       "      <th>total_outstanding_orders</th>\n",
       "      <td>50,145.00</td>\n",
       "      <td>62.57</td>\n",
       "      <td>56.38</td>\n",
       "      <td>-9.00</td>\n",
       "      <td>19.00</td>\n",
       "      <td>45.00</td>\n",
       "      <td>91.00</td>\n",
       "      <td>292.00</td>\n",
       "    </tr>\n",
       "    <tr>\n",
       "      <th>estimated_store_to_consumer_driving_duration</th>\n",
       "      <td>54,767.00</td>\n",
       "      <td>547.77</td>\n",
       "      <td>220.46</td>\n",
       "      <td>0.00</td>\n",
       "      <td>385.00</td>\n",
       "      <td>544.00</td>\n",
       "      <td>703.00</td>\n",
       "      <td>1,550.00</td>\n",
       "    </tr>\n",
       "    <tr>\n",
       "      <th>delivery_id</th>\n",
       "      <td>54,778.00</td>\n",
       "      <td>126,118.10</td>\n",
       "      <td>72,683.61</td>\n",
       "      <td>20.00</td>\n",
       "      <td>62,938.50</td>\n",
       "      <td>126,194.00</td>\n",
       "      <td>188,916.00</td>\n",
       "      <td>252,031.00</td>\n",
       "    </tr>\n",
       "  </tbody>\n",
       "</table>\n",
       "</div>"
      ]
     },
     "metadata": {
      "application/vnd.databricks.v1+output": {
       "addedWidgets": {},
       "arguments": {},
       "data": "<div>\n<style scoped>\n    .dataframe tbody tr th:only-of-type {\n        vertical-align: middle;\n    }\n\n    .dataframe tbody tr th {\n        vertical-align: top;\n    }\n\n    .dataframe thead th {\n        text-align: right;\n    }\n</style>\n<table border=\"1\" class=\"dataframe\">\n  <thead>\n    <tr style=\"text-align: right;\">\n      <th></th>\n      <th>count</th>\n      <th>mean</th>\n      <th>std</th>\n      <th>min</th>\n      <th>25%</th>\n      <th>50%</th>\n      <th>75%</th>\n      <th>max</th>\n    </tr>\n  </thead>\n  <tbody>\n    <tr>\n      <th>market_id</th>\n      <td>54,528.00</td>\n      <td>3.03</td>\n      <td>1.53</td>\n      <td>1.00</td>\n      <td>2.00</td>\n      <td>3.00</td>\n      <td>4.00</td>\n      <td>6.00</td>\n    </tr>\n    <tr>\n      <th>store_id</th>\n      <td>54,778.00</td>\n      <td>3,489.64</td>\n      <td>2,050.22</td>\n      <td>2.00</td>\n      <td>1,661.00</td>\n      <td>3,518.00</td>\n      <td>5,247.00</td>\n      <td>6,986.00</td>\n    </tr>\n    <tr>\n      <th>subtotal</th>\n      <td>54,778.00</td>\n      <td>2,715.76</td>\n      <td>1,897.92</td>\n      <td>0.00</td>\n      <td>1,420.00</td>\n      <td>2,220.00</td>\n      <td>3,415.00</td>\n      <td>29,925.00</td>\n    </tr>\n    <tr>\n      <th>total_onshift_dashers</th>\n      <td>50,145.00</td>\n      <td>49.08</td>\n      <td>37.59</td>\n      <td>-1.00</td>\n      <td>19.00</td>\n      <td>41.00</td>\n      <td>71.00</td>\n      <td>175.00</td>\n    </tr>\n    <tr>\n      <th>total_busy_dashers</th>\n      <td>50,145.00</td>\n      <td>43.52</td>\n      <td>34.05</td>\n      <td>-4.00</td>\n      <td>16.00</td>\n      <td>36.00</td>\n      <td>63.00</td>\n      <td>169.00</td>\n    </tr>\n    <tr>\n      <th>total_outstanding_orders</th>\n      <td>50,145.00</td>\n      <td>62.57</td>\n      <td>56.38</td>\n      <td>-9.00</td>\n      <td>19.00</td>\n      <td>45.00</td>\n      <td>91.00</td>\n      <td>292.00</td>\n    </tr>\n    <tr>\n      <th>estimated_store_to_consumer_driving_duration</th>\n      <td>54,767.00</td>\n      <td>547.77</td>\n      <td>220.46</td>\n      <td>0.00</td>\n      <td>385.00</td>\n      <td>544.00</td>\n      <td>703.00</td>\n      <td>1,550.00</td>\n    </tr>\n    <tr>\n      <th>delivery_id</th>\n      <td>54,778.00</td>\n      <td>126,118.10</td>\n      <td>72,683.61</td>\n      <td>20.00</td>\n      <td>62,938.50</td>\n      <td>126,194.00</td>\n      <td>188,916.00</td>\n      <td>252,031.00</td>\n    </tr>\n  </tbody>\n</table>\n</div>",
       "datasetInfos": [],
       "metadata": {},
       "removedWidgets": [],
       "textData": null,
       "type": "htmlSandbox"
      }
     },
     "output_type": "display_data"
    }
   ],
   "source": [
    "date_cols = ['created_at']\n",
    "df2=pd.read_csv(\"file:/dbfs/FileStore/tables/predict_data.csv\", parse_dates=date_cols)\n",
    "print(df2.info())\n",
    "print(df2.apply(lambda x: np.sum(pd.isna(x))))\n",
    "df2.describe().T"
   ]
  },
  {
   "cell_type": "markdown",
   "metadata": {
    "application/vnd.databricks.v1+cell": {
     "inputWidgets": {},
     "nuid": "3d2497be-047a-4bd0-99fb-4c59b1dc23d1",
     "showTitle": false,
     "title": ""
    }
   },
   "source": [
    "## Check Consistency of Historical Data and Predict Data"
   ]
  },
  {
   "cell_type": "code",
   "execution_count": 0,
   "metadata": {
    "application/vnd.databricks.v1+cell": {
     "inputWidgets": {},
     "nuid": "31849bfc-29fa-4f77-84ec-ef39068e16ae",
     "showTitle": false,
     "title": ""
    }
   },
   "outputs": [
    {
     "data": {
      "text/html": [
       "<style scoped>\n",
       "  .ansiout {\n",
       "    display: block;\n",
       "    unicode-bidi: embed;\n",
       "    white-space: pre-wrap;\n",
       "    word-wrap: break-word;\n",
       "    word-break: break-all;\n",
       "    font-family: \"Source Code Pro\", \"Menlo\", monospace;;\n",
       "    font-size: 13px;\n",
       "    color: #555;\n",
       "    margin-left: 4px;\n",
       "    line-height: 19px;\n",
       "  }\n",
       "</style>\n",
       "<div class=\"ansiout\">Out[29]: Out[29]: </div>"
      ]
     },
     "metadata": {
      "application/vnd.databricks.v1+output": {
       "addedWidgets": {},
       "arguments": {},
       "data": "<div class=\"ansiout\">Out[29]: Out[29]: </div>",
       "datasetInfos": [],
       "metadata": {},
       "removedWidgets": [],
       "type": "html"
      }
     },
     "output_type": "display_data"
    },
    {
     "data": {
      "image/png": "[encoded data removed]"
     },
     "metadata": {
      "application/vnd.databricks.v1+output": {
       "addedWidgets": {},
       "arguments": {},
       "data": "data:image/png;base64,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",
       "datasetInfos": [],
       "metadata": {
        "imageDimensions": {
         "height": 248,
         "width": 387
        }
       },
       "removedWidgets": [],
       "type": "image"
      },
      "image/png": {
       "height": 248,
       "width": 387
      }
     },
     "output_type": "display_data"
    },
    {
     "data": {
      "text/html": [
       "<style scoped>\n",
       "  .ansiout {\n",
       "    display: block;\n",
       "    unicode-bidi: embed;\n",
       "    white-space: pre-wrap;\n",
       "    word-wrap: break-word;\n",
       "    word-break: break-all;\n",
       "    font-family: \"Source Code Pro\", \"Menlo\", monospace;;\n",
       "    font-size: 13px;\n",
       "    color: #555;\n",
       "    margin-left: 4px;\n",
       "    line-height: 19px;\n",
       "  }\n",
       "</style>\n",
       "<div class=\"ansiout\">&lt;AxesSubplot:&gt;</div>"
      ]
     },
     "metadata": {
      "application/vnd.databricks.v1+output": {
       "addedWidgets": {},
       "arguments": {},
       "data": "<div class=\"ansiout\">&lt;AxesSubplot:&gt;</div>",
       "datasetInfos": [],
       "metadata": {},
       "removedWidgets": [],
       "type": "html"
      }
     },
     "output_type": "display_data"
    }
   ],
   "source": [
    "df['created_at'].dt.day.hist()\n",
    "df2['created_at'].dt.day.hist()"
   ]
  },
  {
   "cell_type": "code",
   "execution_count": 0,
   "metadata": {
    "application/vnd.databricks.v1+cell": {
     "inputWidgets": {},
     "nuid": "04e728f7-41d1-45d6-a02e-d360cb9d97be",
     "showTitle": false,
     "title": ""
    }
   },
   "outputs": [
    {
     "data": {
      "text/html": [
       "<style scoped>\n",
       "  .ansiout {\n",
       "    display: block;\n",
       "    unicode-bidi: embed;\n",
       "    white-space: pre-wrap;\n",
       "    word-wrap: break-word;\n",
       "    word-break: break-all;\n",
       "    font-family: \"Source Code Pro\", \"Menlo\", monospace;;\n",
       "    font-size: 13px;\n",
       "    color: #555;\n",
       "    margin-left: 4px;\n",
       "    line-height: 19px;\n",
       "  }\n",
       "</style>\n",
       "<div class=\"ansiout\">Out[30]: Out[30]: </div>"
      ]
     },
     "metadata": {
      "application/vnd.databricks.v1+output": {
       "addedWidgets": {},
       "arguments": {},
       "data": "<div class=\"ansiout\">Out[30]: Out[30]: </div>",
       "datasetInfos": [],
       "metadata": {},
       "removedWidgets": [],
       "type": "html"
      }
     },
     "output_type": "display_data"
    },
    {
     "data": {
      "image/png": "[encoded data removed]"
     },
     "metadata": {
      "application/vnd.databricks.v1+output": {
       "addedWidgets": {},
       "arguments": {},
       "data": "data:image/png;base64,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",
       "datasetInfos": [],
       "metadata": {
        "imageDimensions": {
         "height": 248,
         "width": 387
        }
       },
       "removedWidgets": [],
       "type": "image"
      },
      "image/png": {
       "height": 248,
       "width": 387
      }
     },
     "output_type": "display_data"
    },
    {
     "data": {
      "text/html": [
       "<style scoped>\n",
       "  .ansiout {\n",
       "    display: block;\n",
       "    unicode-bidi: embed;\n",
       "    white-space: pre-wrap;\n",
       "    word-wrap: break-word;\n",
       "    word-break: break-all;\n",
       "    font-family: \"Source Code Pro\", \"Menlo\", monospace;;\n",
       "    font-size: 13px;\n",
       "    color: #555;\n",
       "    margin-left: 4px;\n",
       "    line-height: 19px;\n",
       "  }\n",
       "</style>\n",
       "<div class=\"ansiout\">&lt;AxesSubplot:&gt;</div>"
      ]
     },
     "metadata": {
      "application/vnd.databricks.v1+output": {
       "addedWidgets": {},
       "arguments": {},
       "data": "<div class=\"ansiout\">&lt;AxesSubplot:&gt;</div>",
       "datasetInfos": [],
       "metadata": {},
       "removedWidgets": [],
       "type": "html"
      }
     },
     "output_type": "display_data"
    }
   ],
   "source": [
    "#UTC 19pm-4am 11am-20pm\n",
    "df['created_at'].dt.hour.hist()\n",
    "df2['created_at'].dt.hour.hist()"
   ]
  },
  {
   "cell_type": "code",
   "execution_count": 0,
   "metadata": {
    "application/vnd.databricks.v1+cell": {
     "inputWidgets": {},
     "nuid": "8ce99f6a-47b6-42d6-9ea4-263b159ad0a4",
     "showTitle": false,
     "title": ""
    }
   },
   "outputs": [
    {
     "data": {
      "text/html": [
       "<style scoped>\n",
       "  .ansiout {\n",
       "    display: block;\n",
       "    unicode-bidi: embed;\n",
       "    white-space: pre-wrap;\n",
       "    word-wrap: break-word;\n",
       "    word-break: break-all;\n",
       "    font-family: \"Source Code Pro\", \"Menlo\", monospace;;\n",
       "    font-size: 13px;\n",
       "    color: #555;\n",
       "    margin-left: 4px;\n",
       "    line-height: 19px;\n",
       "  }\n",
       "</style>\n",
       "<div class=\"ansiout\">Out[31]: Out[31]: </div>"
      ]
     },
     "metadata": {
      "application/vnd.databricks.v1+output": {
       "addedWidgets": {},
       "arguments": {},
       "data": "<div class=\"ansiout\">Out[31]: Out[31]: </div>",
       "datasetInfos": [],
       "metadata": {},
       "removedWidgets": [],
       "type": "html"
      }
     },
     "output_type": "display_data"
    },
    {
     "data": {
      "image/png": "[encoded data removed]"
     },
     "metadata": {
      "application/vnd.databricks.v1+output": {
       "addedWidgets": {},
       "arguments": {},
       "data": "data:image/png;base64,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",
       "datasetInfos": [],
       "metadata": {
        "imageDimensions": {
         "height": 248,
         "width": 387
        }
       },
       "removedWidgets": [],
       "type": "image"
      },
      "image/png": {
       "height": 248,
       "width": 387
      }
     },
     "output_type": "display_data"
    },
    {
     "data": {
      "text/html": [
       "<style scoped>\n",
       "  .ansiout {\n",
       "    display: block;\n",
       "    unicode-bidi: embed;\n",
       "    white-space: pre-wrap;\n",
       "    word-wrap: break-word;\n",
       "    word-break: break-all;\n",
       "    font-family: \"Source Code Pro\", \"Menlo\", monospace;;\n",
       "    font-size: 13px;\n",
       "    color: #555;\n",
       "    margin-left: 4px;\n",
       "    line-height: 19px;\n",
       "  }\n",
       "</style>\n",
       "<div class=\"ansiout\">&lt;AxesSubplot:&gt;</div>"
      ]
     },
     "metadata": {
      "application/vnd.databricks.v1+output": {
       "addedWidgets": {},
       "arguments": {},
       "data": "<div class=\"ansiout\">&lt;AxesSubplot:&gt;</div>",
       "datasetInfos": [],
       "metadata": {},
       "removedWidgets": [],
       "type": "html"
      }
     },
     "output_type": "display_data"
    }
   ],
   "source": [
    "df['created_at'].dt.dayofweek.hist()\n",
    "df2['created_at'].dt.dayofweek.hist()"
   ]
  },
  {
   "cell_type": "markdown",
   "metadata": {
    "application/vnd.databricks.v1+cell": {
     "inputWidgets": {},
     "nuid": "320af968-4975-4f74-8cec-962a44ae635d",
     "showTitle": false,
     "title": ""
    }
   },
   "source": [
    "##Score Predict Data Based on Best Model"
   ]
  },
  {
   "cell_type": "code",
   "execution_count": 0,
   "metadata": {
    "application/vnd.databricks.v1+cell": {
     "inputWidgets": {},
     "nuid": "360501f5-3584-40fb-98c5-bb0d24ca14ad",
     "showTitle": false,
     "title": ""
    },
    "scrolled": true
   },
   "outputs": [
    {
     "data": {
      "text/html": [
       "<style scoped>\n",
       "  .ansiout {\n",
       "    display: block;\n",
       "    unicode-bidi: embed;\n",
       "    white-space: pre-wrap;\n",
       "    word-wrap: break-word;\n",
       "    word-break: break-all;\n",
       "    font-family: \"Source Code Pro\", \"Menlo\", monospace;;\n",
       "    font-size: 13px;\n",
       "    color: #555;\n",
       "    margin-left: 4px;\n",
       "    line-height: 19px;\n",
       "  }\n",
       "</style>\n",
       "<div class=\"ansiout\">&lt;class &#39;pandas.core.frame.DataFrame&#39;&gt;\n",
       "RangeIndex: 54778 entries, 0 to 54777\n",
       "Data columns (total 17 columns):\n",
       " #   Column                Non-Null Count  Dtype                     \n",
       "---  ------                --------------  -----                     \n",
       " 0   market_id             54778 non-null  float64                   \n",
       " 1   created_at            54778 non-null  datetime64[ns]            \n",
       " 2   store_id              54778 non-null  int64                     \n",
       " 3   subtotal              54778 non-null  int64                     \n",
       " 4   onshift_dashers       54778 non-null  float64                   \n",
       " 5   busy_dashers          54778 non-null  float64                   \n",
       " 6   orders                54778 non-null  float64                   \n",
       " 7   driving_duration      54778 non-null  float64                   \n",
       " 8   delivery_id           54778 non-null  int64                     \n",
       " 9   busy_dashers_pct      54778 non-null  float64                   \n",
       " 10  subtotal_log          54778 non-null  float64                   \n",
       " 11  driving_duration_log  54778 non-null  float64                   \n",
       " 12  created_at_local      54778 non-null  datetime64[ns, US/Pacific]\n",
       " 13  hour                  54778 non-null  int64                     \n",
       " 14  dayofmonth            54778 non-null  int64                     \n",
       " 15  dayofweek             54778 non-null  int64                     \n",
       " 16  evening               54778 non-null  int64                     \n",
       "dtypes: datetime64[ns, US/Pacific](1), datetime64[ns](1), float64(8), int64(7)\n",
       "memory usage: 7.1 MB\n",
       "None\n",
       "market_id               0\n",
       "created_at              0\n",
       "store_id                0\n",
       "subtotal                0\n",
       "onshift_dashers         0\n",
       "busy_dashers            0\n",
       "orders                  0\n",
       "driving_duration        0\n",
       "delivery_id             0\n",
       "busy_dashers_pct        0\n",
       "subtotal_log            0\n",
       "driving_duration_log    0\n",
       "created_at_local        0\n",
       "hour                    0\n",
       "dayofmonth              0\n",
       "dayofweek               0\n",
       "evening                 0\n",
       "dtype: int64\n",
       "Out[53]: Out[53]: Out[53]: &lt;class &#39;pandas.core.frame.DataFrame&#39;&gt;\n",
       "RangeIndex: 54778 entries, 0 to 54777\n",
       "Data columns (total 6 columns):\n",
       " #   Column      Non-Null Count  Dtype  \n",
       "---  ------      --------------  -----  \n",
       " 0   market_id1  54778 non-null  float64\n",
       " 1   market_id2  54778 non-null  float64\n",
       " 2   market_id3  54778 non-null  float64\n",
       " 3   market_id4  54778 non-null  float64\n",
       " 4   market_id5  54778 non-null  float64\n",
       " 5   market_id6  54778 non-null  float64\n",
       "dtypes: float64(6)\n",
       "memory usage: 2.5 MB\n",
       "&lt;class &#39;pandas.core.frame.DataFrame&#39;&gt;\n",
       "RangeIndex: 54778 entries, 0 to 54777\n",
       "Data columns (total 27 columns):\n",
       " #   Column                Non-Null Count  Dtype                     \n",
       "---  ------                --------------  -----                     \n",
       " 0   index                 54778 non-null  int64                     \n",
       " 1   market_id             54778 non-null  float64                   \n",
       " 2   created_at            54778 non-null  datetime64[ns]            \n",
       " 3   store_id              54778 non-null  int64                     \n",
       " 4   subtotal              54778 non-null  int64                     \n",
       " 5   onshift_dashers       54778 non-null  float64                   \n",
       " 6   busy_dashers          54778 non-null  float64                   \n",
       " 7   orders                54778 non-null  float64                   \n",
       " 8   driving_duration      54778 non-null  float64                   \n",
       " 9   delivery_id           54778 non-null  int64                     \n",
       " 10  busy_dashers_pct      54778 non-null  float64                   \n",
       " 11  subtotal_log          54778 non-null  float64                   \n",
       " 12  driving_duration_log  54778 non-null  float64                   \n",
       " 13  created_at_local      54778 non-null  datetime64[ns, US/Pacific]\n",
       " 14  hour                  54778 non-null  int64                     \n",
       " 15  dayofmonth            54778 non-null  int64                     \n",
       " 16  dayofweek             54778 non-null  int64                     \n",
       " 17  evening               54778 non-null  int64                     \n",
       " 18  market_id1            54778 non-null  float64                   \n",
       " 19  market_id2            54778 non-null  float64                   \n",
       " 20  market_id3            54778 non-null  float64                   \n",
       " 21  market_id4            54778 non-null  float64                   \n",
       " 22  market_id5            54778 non-null  float64                   \n",
       " 23  market_id6            54778 non-null  float64                   \n",
       " 24  new_dashers_orders    54778 non-null  float64                   \n",
       " 25  predicted_duration    54778 non-null  float64                   \n",
       " 26  predicted_duration2   54778 non-null  float64                   \n",
       "dtypes: datetime64[ns, US/Pacific](1), datetime64[ns](1), float64(17), int64(8)\n",
       "memory usage: 11.3 MB\n",
       "Out[53]: Out[53]: </div>"
      ]
     },
     "metadata": {
      "application/vnd.databricks.v1+output": {
       "addedWidgets": {},
       "arguments": {},
       "data": "<div class=\"ansiout\">&lt;class &#39;pandas.core.frame.DataFrame&#39;&gt;\nRangeIndex: 54778 entries, 0 to 54777\nData columns (total 17 columns):\n #   Column                Non-Null Count  Dtype                     \n---  ------                --------------  -----                     \n 0   market_id             54778 non-null  float64                   \n 1   created_at            54778 non-null  datetime64[ns]            \n 2   store_id              54778 non-null  int64                     \n 3   subtotal              54778 non-null  int64                     \n 4   onshift_dashers       54778 non-null  float64                   \n 5   busy_dashers          54778 non-null  float64                   \n 6   orders                54778 non-null  float64                   \n 7   driving_duration      54778 non-null  float64                   \n 8   delivery_id           54778 non-null  int64                     \n 9   busy_dashers_pct      54778 non-null  float64                   \n 10  subtotal_log          54778 non-null  float64                   \n 11  driving_duration_log  54778 non-null  float64                   \n 12  created_at_local      54778 non-null  datetime64[ns, US/Pacific]\n 13  hour                  54778 non-null  int64                     \n 14  dayofmonth            54778 non-null  int64                     \n 15  dayofweek             54778 non-null  int64                     \n 16  evening               54778 non-null  int64                     \ndtypes: datetime64[ns, US/Pacific](1), datetime64[ns](1), float64(8), int64(7)\nmemory usage: 7.1 MB\nNone\nmarket_id               0\ncreated_at              0\nstore_id                0\nsubtotal                0\nonshift_dashers         0\nbusy_dashers            0\norders                  0\ndriving_duration        0\ndelivery_id             0\nbusy_dashers_pct        0\nsubtotal_log            0\ndriving_duration_log    0\ncreated_at_local        0\nhour                    0\ndayofmonth              0\ndayofweek               0\nevening                 0\ndtype: int64\nOut[53]: Out[53]: Out[53]: &lt;class &#39;pandas.core.frame.DataFrame&#39;&gt;\nRangeIndex: 54778 entries, 0 to 54777\nData columns (total 6 columns):\n #   Column      Non-Null Count  Dtype  \n---  ------      --------------  -----  \n 0   market_id1  54778 non-null  float64\n 1   market_id2  54778 non-null  float64\n 2   market_id3  54778 non-null  float64\n 3   market_id4  54778 non-null  float64\n 4   market_id5  54778 non-null  float64\n 5   market_id6  54778 non-null  float64\ndtypes: float64(6)\nmemory usage: 2.5 MB\n&lt;class &#39;pandas.core.frame.DataFrame&#39;&gt;\nRangeIndex: 54778 entries, 0 to 54777\nData columns (total 27 columns):\n #   Column                Non-Null Count  Dtype                     \n---  ------                --------------  -----                     \n 0   index                 54778 non-null  int64                     \n 1   market_id             54778 non-null  float64                   \n 2   created_at            54778 non-null  datetime64[ns]            \n 3   store_id              54778 non-null  int64                     \n 4   subtotal              54778 non-null  int64                     \n 5   onshift_dashers       54778 non-null  float64                   \n 6   busy_dashers          54778 non-null  float64                   \n 7   orders                54778 non-null  float64                   \n 8   driving_duration      54778 non-null  float64                   \n 9   delivery_id           54778 non-null  int64                     \n 10  busy_dashers_pct      54778 non-null  float64                   \n 11  subtotal_log          54778 non-null  float64                   \n 12  driving_duration_log  54778 non-null  float64                   \n 13  created_at_local      54778 non-null  datetime64[ns, US/Pacific]\n 14  hour                  54778 non-null  int64                     \n 15  dayofmonth            54778 non-null  int64                     \n 16  dayofweek             54778 non-null  int64                     \n 17  evening               54778 non-null  int64                     \n 18  market_id1            54778 non-null  float64                   \n 19  market_id2            54778 non-null  float64                   \n 20  market_id3            54778 non-null  float64                   \n 21  market_id4            54778 non-null  float64                   \n 22  market_id5            54778 non-null  float64                   \n 23  market_id6            54778 non-null  float64                   \n 24  new_dashers_orders    54778 non-null  float64                   \n 25  predicted_duration    54778 non-null  float64                   \n 26  predicted_duration2   54778 non-null  float64                   \ndtypes: datetime64[ns, US/Pacific](1), datetime64[ns](1), float64(17), int64(8)\nmemory usage: 11.3 MB\nOut[53]: Out[53]: </div>",
       "datasetInfos": [],
       "metadata": {},
       "removedWidgets": [],
       "type": "html"
      }
     },
     "output_type": "display_data"
    },
    {
     "data": {
      "text/html": [
       "<div>\n",
       "<style scoped>\n",
       "    .dataframe tbody tr th:only-of-type {\n",
       "        vertical-align: middle;\n",
       "    }\n",
       "\n",
       "    .dataframe tbody tr th {\n",
       "        vertical-align: top;\n",
       "    }\n",
       "\n",
       "    .dataframe thead th {\n",
       "        text-align: right;\n",
       "    }\n",
       "</style>\n",
       "<table border=\"1\" class=\"dataframe\">\n",
       "  <thead>\n",
       "    <tr style=\"text-align: right;\">\n",
       "      <th></th>\n",
       "      <th>count</th>\n",
       "      <th>mean</th>\n",
       "      <th>std</th>\n",
       "      <th>min</th>\n",
       "      <th>25%</th>\n",
       "      <th>50%</th>\n",
       "      <th>75%</th>\n",
       "      <th>max</th>\n",
       "    </tr>\n",
       "  </thead>\n",
       "  <tbody>\n",
       "    <tr>\n",
       "      <th>index</th>\n",
       "      <td>54,778.00</td>\n",
       "      <td>27,388.50</td>\n",
       "      <td>15,813.19</td>\n",
       "      <td>0.00</td>\n",
       "      <td>13,694.25</td>\n",
       "      <td>27,388.50</td>\n",
       "      <td>41,082.75</td>\n",
       "      <td>54,777.00</td>\n",
       "    </tr>\n",
       "    <tr>\n",
       "      <th>market_id</th>\n",
       "      <td>54,778.00</td>\n",
       "      <td>3.02</td>\n",
       "      <td>1.54</td>\n",
       "      <td>0.00</td>\n",
       "      <td>2.00</td>\n",
       "      <td>3.00</td>\n",
       "      <td>4.00</td>\n",
       "      <td>6.00</td>\n",
       "    </tr>\n",
       "    <tr>\n",
       "      <th>store_id</th>\n",
       "      <td>54,778.00</td>\n",
       "      <td>3,489.64</td>\n",
       "      <td>2,050.22</td>\n",
       "      <td>2.00</td>\n",
       "      <td>1,661.00</td>\n",
       "      <td>3,518.00</td>\n",
       "      <td>5,247.00</td>\n",
       "      <td>6,986.00</td>\n",
       "    </tr>\n",
       "    <tr>\n",
       "      <th>subtotal</th>\n",
       "      <td>54,778.00</td>\n",
       "      <td>2,715.76</td>\n",
       "      <td>1,897.92</td>\n",
       "      <td>0.00</td>\n",
       "      <td>1,420.00</td>\n",
       "      <td>2,220.00</td>\n",
       "      <td>3,415.00</td>\n",
       "      <td>29,925.00</td>\n",
       "    </tr>\n",
       "    <tr>\n",
       "      <th>onshift_dashers</th>\n",
       "      <td>54,778.00</td>\n",
       "      <td>49.08</td>\n",
       "      <td>35.97</td>\n",
       "      <td>-1.00</td>\n",
       "      <td>20.00</td>\n",
       "      <td>46.00</td>\n",
       "      <td>67.00</td>\n",
       "      <td>175.00</td>\n",
       "    </tr>\n",
       "    <tr>\n",
       "      <th>busy_dashers</th>\n",
       "      <td>54,778.00</td>\n",
       "      <td>43.52</td>\n",
       "      <td>32.58</td>\n",
       "      <td>-4.00</td>\n",
       "      <td>18.00</td>\n",
       "      <td>41.00</td>\n",
       "      <td>60.00</td>\n",
       "      <td>169.00</td>\n",
       "    </tr>\n",
       "    <tr>\n",
       "      <th>orders</th>\n",
       "      <td>54,778.00</td>\n",
       "      <td>62.57</td>\n",
       "      <td>53.94</td>\n",
       "      <td>-9.00</td>\n",
       "      <td>21.00</td>\n",
       "      <td>53.00</td>\n",
       "      <td>85.00</td>\n",
       "      <td>292.00</td>\n",
       "    </tr>\n",
       "    <tr>\n",
       "      <th>driving_duration</th>\n",
       "      <td>54,778.00</td>\n",
       "      <td>547.77</td>\n",
       "      <td>220.44</td>\n",
       "      <td>0.00</td>\n",
       "      <td>385.00</td>\n",
       "      <td>544.00</td>\n",
       "      <td>703.00</td>\n",
       "      <td>1,550.00</td>\n",
       "    </tr>\n",
       "    <tr>\n",
       "      <th>delivery_id</th>\n",
       "      <td>54,778.00</td>\n",
       "      <td>126,118.10</td>\n",
       "      <td>72,683.61</td>\n",
       "      <td>20.00</td>\n",
       "      <td>62,938.50</td>\n",
       "      <td>126,194.00</td>\n",
       "      <td>188,916.00</td>\n",
       "      <td>252,031.00</td>\n",
       "    </tr>\n",
       "    <tr>\n",
       "      <th>busy_dashers_pct</th>\n",
       "      <td>54,778.00</td>\n",
       "      <td>0.87</td>\n",
       "      <td>0.20</td>\n",
       "      <td>-4.00</td>\n",
       "      <td>0.81</td>\n",
       "      <td>0.93</td>\n",
       "      <td>1.00</td>\n",
       "      <td>8.00</td>\n",
       "    </tr>\n",
       "    <tr>\n",
       "      <th>subtotal_log</th>\n",
       "      <td>54,778.00</td>\n",
       "      <td>3.34</td>\n",
       "      <td>0.31</td>\n",
       "      <td>-1.00</td>\n",
       "      <td>3.15</td>\n",
       "      <td>3.35</td>\n",
       "      <td>3.53</td>\n",
       "      <td>4.48</td>\n",
       "    </tr>\n",
       "    <tr>\n",
       "      <th>driving_duration_log</th>\n",
       "      <td>54,778.00</td>\n",
       "      <td>2.70</td>\n",
       "      <td>0.21</td>\n",
       "      <td>-1.00</td>\n",
       "      <td>2.59</td>\n",
       "      <td>2.74</td>\n",
       "      <td>2.85</td>\n",
       "      <td>3.19</td>\n",
       "    </tr>\n",
       "    <tr>\n",
       "      <th>hour</th>\n",
       "      <td>54,778.00</td>\n",
       "      <td>16.05</td>\n",
       "      <td>3.29</td>\n",
       "      <td>6.00</td>\n",
       "      <td>13.00</td>\n",
       "      <td>17.00</td>\n",
       "      <td>18.00</td>\n",
       "      <td>23.00</td>\n",
       "    </tr>\n",
       "    <tr>\n",
       "      <th>dayofmonth</th>\n",
       "      <td>54,778.00</td>\n",
       "      <td>3.29</td>\n",
       "      <td>1.99</td>\n",
       "      <td>0.00</td>\n",
       "      <td>2.00</td>\n",
       "      <td>4.00</td>\n",
       "      <td>5.00</td>\n",
       "      <td>6.00</td>\n",
       "    </tr>\n",
       "    <tr>\n",
       "      <th>dayofweek</th>\n",
       "      <td>54,778.00</td>\n",
       "      <td>20.96</td>\n",
       "      <td>1.87</td>\n",
       "      <td>18.00</td>\n",
       "      <td>19.00</td>\n",
       "      <td>21.00</td>\n",
       "      <td>22.00</td>\n",
       "      <td>24.00</td>\n",
       "    </tr>\n",
       "    <tr>\n",
       "      <th>evening</th>\n",
       "      <td>54,778.00</td>\n",
       "      <td>0.69</td>\n",
       "      <td>0.46</td>\n",
       "      <td>0.00</td>\n",
       "      <td>0.00</td>\n",
       "      <td>1.00</td>\n",
       "      <td>1.00</td>\n",
       "      <td>1.00</td>\n",
       "    </tr>\n",
       "    <tr>\n",
       "      <th>market_id1</th>\n",
       "      <td>54,778.00</td>\n",
       "      <td>0.18</td>\n",
       "      <td>0.38</td>\n",
       "      <td>0.00</td>\n",
       "      <td>0.00</td>\n",
       "      <td>0.00</td>\n",
       "      <td>0.00</td>\n",
       "      <td>1.00</td>\n",
       "    </tr>\n",
       "    <tr>\n",
       "      <th>market_id2</th>\n",
       "      <td>54,778.00</td>\n",
       "      <td>0.28</td>\n",
       "      <td>0.45</td>\n",
       "      <td>0.00</td>\n",
       "      <td>0.00</td>\n",
       "      <td>0.00</td>\n",
       "      <td>1.00</td>\n",
       "      <td>1.00</td>\n",
       "    </tr>\n",
       "    <tr>\n",
       "      <th>market_id3</th>\n",
       "      <td>54,778.00</td>\n",
       "      <td>0.11</td>\n",
       "      <td>0.32</td>\n",
       "      <td>0.00</td>\n",
       "      <td>0.00</td>\n",
       "      <td>0.00</td>\n",
       "      <td>0.00</td>\n",
       "      <td>1.00</td>\n",
       "    </tr>\n",
       "    <tr>\n",
       "      <th>market_id4</th>\n",
       "      <td>54,778.00</td>\n",
       "      <td>0.24</td>\n",
       "      <td>0.43</td>\n",
       "      <td>0.00</td>\n",
       "      <td>0.00</td>\n",
       "      <td>0.00</td>\n",
       "      <td>0.00</td>\n",
       "      <td>1.00</td>\n",
       "    </tr>\n",
       "    <tr>\n",
       "      <th>market_id5</th>\n",
       "      <td>54,778.00</td>\n",
       "      <td>0.10</td>\n",
       "      <td>0.30</td>\n",
       "      <td>0.00</td>\n",
       "      <td>0.00</td>\n",
       "      <td>0.00</td>\n",
       "      <td>0.00</td>\n",
       "      <td>1.00</td>\n",
       "    </tr>\n",
       "    <tr>\n",
       "      <th>market_id6</th>\n",
       "      <td>54,778.00</td>\n",
       "      <td>0.08</td>\n",
       "      <td>0.27</td>\n",
       "      <td>0.00</td>\n",
       "      <td>0.00</td>\n",
       "      <td>0.00</td>\n",
       "      <td>0.00</td>\n",
       "      <td>1.00</td>\n",
       "    </tr>\n",
       "    <tr>\n",
       "      <th>new_dashers_orders</th>\n",
       "      <td>54,778.00</td>\n",
       "      <td>0.00</td>\n",
       "      <td>71.71</td>\n",
       "      <td>-94.24</td>\n",
       "      <td>-56.80</td>\n",
       "      <td>-10.06</td>\n",
       "      <td>31.68</td>\n",
       "      <td>278.22</td>\n",
       "    </tr>\n",
       "    <tr>\n",
       "      <th>predicted_duration</th>\n",
       "      <td>54,778.00</td>\n",
       "      <td>2,790.89</td>\n",
       "      <td>498.09</td>\n",
       "      <td>1,424.96</td>\n",
       "      <td>2,425.84</td>\n",
       "      <td>2,752.81</td>\n",
       "      <td>3,122.31</td>\n",
       "      <td>5,302.58</td>\n",
       "    </tr>\n",
       "    <tr>\n",
       "      <th>predicted_duration2</th>\n",
       "      <td>54,778.00</td>\n",
       "      <td>2,761.65</td>\n",
       "      <td>533.40</td>\n",
       "      <td>1,515.56</td>\n",
       "      <td>2,362.27</td>\n",
       "      <td>2,687.32</td>\n",
       "      <td>3,106.48</td>\n",
       "      <td>5,297.49</td>\n",
       "    </tr>\n",
       "  </tbody>\n",
       "</table>\n",
       "</div>"
      ]
     },
     "metadata": {
      "application/vnd.databricks.v1+output": {
       "addedWidgets": {},
       "arguments": {},
       "data": "<div>\n<style scoped>\n    .dataframe tbody tr th:only-of-type {\n        vertical-align: middle;\n    }\n\n    .dataframe tbody tr th {\n        vertical-align: top;\n    }\n\n    .dataframe thead th {\n        text-align: right;\n    }\n</style>\n<table border=\"1\" class=\"dataframe\">\n  <thead>\n    <tr style=\"text-align: right;\">\n      <th></th>\n      <th>count</th>\n      <th>mean</th>\n      <th>std</th>\n      <th>min</th>\n      <th>25%</th>\n      <th>50%</th>\n      <th>75%</th>\n      <th>max</th>\n    </tr>\n  </thead>\n  <tbody>\n    <tr>\n      <th>index</th>\n      <td>54,778.00</td>\n      <td>27,388.50</td>\n      <td>15,813.19</td>\n      <td>0.00</td>\n      <td>13,694.25</td>\n      <td>27,388.50</td>\n      <td>41,082.75</td>\n      <td>54,777.00</td>\n    </tr>\n    <tr>\n      <th>market_id</th>\n      <td>54,778.00</td>\n      <td>3.02</td>\n      <td>1.54</td>\n      <td>0.00</td>\n      <td>2.00</td>\n      <td>3.00</td>\n      <td>4.00</td>\n      <td>6.00</td>\n    </tr>\n    <tr>\n      <th>store_id</th>\n      <td>54,778.00</td>\n      <td>3,489.64</td>\n      <td>2,050.22</td>\n      <td>2.00</td>\n      <td>1,661.00</td>\n      <td>3,518.00</td>\n      <td>5,247.00</td>\n      <td>6,986.00</td>\n    </tr>\n    <tr>\n      <th>subtotal</th>\n      <td>54,778.00</td>\n      <td>2,715.76</td>\n      <td>1,897.92</td>\n      <td>0.00</td>\n      <td>1,420.00</td>\n      <td>2,220.00</td>\n      <td>3,415.00</td>\n      <td>29,925.00</td>\n    </tr>\n    <tr>\n      <th>onshift_dashers</th>\n      <td>54,778.00</td>\n      <td>49.08</td>\n      <td>35.97</td>\n      <td>-1.00</td>\n      <td>20.00</td>\n      <td>46.00</td>\n      <td>67.00</td>\n      <td>175.00</td>\n    </tr>\n    <tr>\n      <th>busy_dashers</th>\n      <td>54,778.00</td>\n      <td>43.52</td>\n      <td>32.58</td>\n      <td>-4.00</td>\n      <td>18.00</td>\n      <td>41.00</td>\n      <td>60.00</td>\n      <td>169.00</td>\n    </tr>\n    <tr>\n      <th>orders</th>\n      <td>54,778.00</td>\n      <td>62.57</td>\n      <td>53.94</td>\n      <td>-9.00</td>\n      <td>21.00</td>\n      <td>53.00</td>\n      <td>85.00</td>\n      <td>292.00</td>\n    </tr>\n    <tr>\n      <th>driving_duration</th>\n      <td>54,778.00</td>\n      <td>547.77</td>\n      <td>220.44</td>\n      <td>0.00</td>\n      <td>385.00</td>\n      <td>544.00</td>\n      <td>703.00</td>\n      <td>1,550.00</td>\n    </tr>\n    <tr>\n      <th>delivery_id</th>\n      <td>54,778.00</td>\n      <td>126,118.10</td>\n      <td>72,683.61</td>\n      <td>20.00</td>\n      <td>62,938.50</td>\n      <td>126,194.00</td>\n      <td>188,916.00</td>\n      <td>252,031.00</td>\n    </tr>\n    <tr>\n      <th>busy_dashers_pct</th>\n      <td>54,778.00</td>\n      <td>0.87</td>\n      <td>0.20</td>\n      <td>-4.00</td>\n      <td>0.81</td>\n      <td>0.93</td>\n      <td>1.00</td>\n      <td>8.00</td>\n    </tr>\n    <tr>\n      <th>subtotal_log</th>\n      <td>54,778.00</td>\n      <td>3.34</td>\n      <td>0.31</td>\n      <td>-1.00</td>\n      <td>3.15</td>\n      <td>3.35</td>\n      <td>3.53</td>\n      <td>4.48</td>\n    </tr>\n    <tr>\n      <th>driving_duration_log</th>\n      <td>54,778.00</td>\n      <td>2.70</td>\n      <td>0.21</td>\n      <td>-1.00</td>\n      <td>2.59</td>\n      <td>2.74</td>\n      <td>2.85</td>\n      <td>3.19</td>\n    </tr>\n    <tr>\n      <th>hour</th>\n      <td>54,778.00</td>\n      <td>16.05</td>\n      <td>3.29</td>\n      <td>6.00</td>\n      <td>13.00</td>\n      <td>17.00</td>\n      <td>18.00</td>\n      <td>23.00</td>\n    </tr>\n    <tr>\n      <th>dayofmonth</th>\n      <td>54,778.00</td>\n      <td>3.29</td>\n      <td>1.99</td>\n      <td>0.00</td>\n      <td>2.00</td>\n      <td>4.00</td>\n      <td>5.00</td>\n      <td>6.00</td>\n    </tr>\n    <tr>\n      <th>dayofweek</th>\n      <td>54,778.00</td>\n      <td>20.96</td>\n      <td>1.87</td>\n      <td>18.00</td>\n      <td>19.00</td>\n      <td>21.00</td>\n      <td>22.00</td>\n      <td>24.00</td>\n    </tr>\n    <tr>\n      <th>evening</th>\n      <td>54,778.00</td>\n      <td>0.69</td>\n      <td>0.46</td>\n      <td>0.00</td>\n      <td>0.00</td>\n      <td>1.00</td>\n      <td>1.00</td>\n      <td>1.00</td>\n    </tr>\n    <tr>\n      <th>market_id1</th>\n      <td>54,778.00</td>\n      <td>0.18</td>\n      <td>0.38</td>\n      <td>0.00</td>\n      <td>0.00</td>\n      <td>0.00</td>\n      <td>0.00</td>\n      <td>1.00</td>\n    </tr>\n    <tr>\n      <th>market_id2</th>\n      <td>54,778.00</td>\n      <td>0.28</td>\n      <td>0.45</td>\n      <td>0.00</td>\n      <td>0.00</td>\n      <td>0.00</td>\n      <td>1.00</td>\n      <td>1.00</td>\n    </tr>\n    <tr>\n      <th>market_id3</th>\n      <td>54,778.00</td>\n      <td>0.11</td>\n      <td>0.32</td>\n      <td>0.00</td>\n      <td>0.00</td>\n      <td>0.00</td>\n      <td>0.00</td>\n      <td>1.00</td>\n    </tr>\n    <tr>\n      <th>market_id4</th>\n      <td>54,778.00</td>\n      <td>0.24</td>\n      <td>0.43</td>\n      <td>0.00</td>\n      <td>0.00</td>\n      <td>0.00</td>\n      <td>0.00</td>\n      <td>1.00</td>\n    </tr>\n    <tr>\n      <th>market_id5</th>\n      <td>54,778.00</td>\n      <td>0.10</td>\n      <td>0.30</td>\n      <td>0.00</td>\n      <td>0.00</td>\n      <td>0.00</td>\n      <td>0.00</td>\n      <td>1.00</td>\n    </tr>\n    <tr>\n      <th>market_id6</th>\n      <td>54,778.00</td>\n      <td>0.08</td>\n      <td>0.27</td>\n      <td>0.00</td>\n      <td>0.00</td>\n      <td>0.00</td>\n      <td>0.00</td>\n      <td>1.00</td>\n    </tr>\n    <tr>\n      <th>new_dashers_orders</th>\n      <td>54,778.00</td>\n      <td>0.00</td>\n      <td>71.71</td>\n      <td>-94.24</td>\n      <td>-56.80</td>\n      <td>-10.06</td>\n      <td>31.68</td>\n      <td>278.22</td>\n    </tr>\n    <tr>\n      <th>predicted_duration</th>\n      <td>54,778.00</td>\n      <td>2,790.89</td>\n      <td>498.09</td>\n      <td>1,424.96</td>\n      <td>2,425.84</td>\n      <td>2,752.81</td>\n      <td>3,122.31</td>\n      <td>5,302.58</td>\n    </tr>\n    <tr>\n      <th>predicted_duration2</th>\n      <td>54,778.00</td>\n      <td>2,761.65</td>\n      <td>533.40</td>\n      <td>1,515.56</td>\n      <td>2,362.27</td>\n      <td>2,687.32</td>\n      <td>3,106.48</td>\n      <td>5,297.49</td>\n    </tr>\n  </tbody>\n</table>\n</div>",
       "datasetInfos": [],
       "metadata": {},
       "removedWidgets": [],
       "textData": null,
       "type": "htmlSandbox"
      }
     },
     "output_type": "display_data"
    }
   ],
   "source": [
    "\n",
    "date_cols = ['created_at']\n",
    "df2=pd.read_csv(\"file:/dbfs/FileStore/tables/predict_data.csv\", parse_dates=date_cols)\n",
    "\n",
    "df2.rename(columns={'total_onshift_dashers': 'onshift_dashers', 'total_busy_dashers': 'busy_dashers',\n",
    "          'total_outstanding_orders': 'orders', 'estimated_store_to_consumer_driving_duration': 'driving_duration'}, inplace=True)\n",
    "df2['market_id']=df2['market_id'].fillna(0)\n",
    "df2 = df2.transform(lambda x: x.fillna(x.mean()))\n",
    "\n",
    "df2['busy_dashers_pct']=df2['busy_dashers'].div(df2['onshift_dashers']).replace(np.inf, 0).replace(-np.inf, 0).fillna(0)\n",
    "\n",
    "df2['subtotal_log'] = np.log10(df2['subtotal']+0.1)\n",
    "df2['driving_duration_log'] = np.log10(df2['driving_duration']+0.1)\n",
    "\n",
    "df2['created_at_local']=df2['created_at'].dt.tz_localize('UTC').dt.tz_convert('US/Pacific')\n",
    "df2['hour']=df2['created_at_local'].dt.hour\n",
    "#df2['hour_abs']=abs(df2['created_at_local'].dt.hour-14)\n",
    "df2['dayofmonth']=df2['created_at_local'].dt.dayofweek\n",
    "df2['dayofweek']=df2['created_at_local'].dt.day\n",
    "df2['evening']=np.where(df2['hour']>=15, 1, 0)\n",
    "\n",
    "print(df2.info())\n",
    "print(df2.apply(lambda x: np.sum(pd.isna(x))))\n",
    "df2.describe().T\n",
    "\n",
    "marketid = df2[['market_id']].values\n",
    "onehot.fit(marketid)\n",
    "marketid_encoded=pd.DataFrame(onehot.transform(marketid), columns=['market_id1','market_id2', 'market_id3','market_id4','market_id5','market_id6'])\n",
    "marketid_encoded.head()\n",
    "marketid_encoded.info()\n",
    "\n",
    "df2=pd.concat([df2.reset_index(), marketid_encoded], axis=1)\n",
    "\n",
    "#pca = PCA(n_components=1)\n",
    "#call the compressed column 'new'\n",
    "df2['new_dashers_orders'] = pca.fit_transform(df2[['onshift_dashers', 'busy_dashers', 'orders']])\n",
    "\n",
    "\n",
    "X2 = df2.loc[:, feature_cols]\n",
    "\n",
    "X2 = scaler.transform(X2)\n",
    "\n",
    "df2['predicted_duration'] = np.power(10, gbr.predict(X2))\n",
    "df2['predicted_duration2']= np.power(10, rf.predict(X2))\n",
    "\n",
    "df2.info()\n",
    "df2.head()\n",
    "df2.describe().T\n",
    "\n",
    "df2[['delivery_id', 'predicted_duration']].to_csv(\"/dbfs/FileStore/tables/data_to_predict.csv\", index=False)\n",
    "\n"
   ]
  },
  {
   "cell_type": "code",
   "execution_count": 133,
   "metadata": {},
   "outputs": [
    {
     "data": {
      "text/plain": [
       "0.4633240541517593"
      ]
     },
     "execution_count": 133,
     "metadata": {},
     "output_type": "execute_result"
    },
    {
     "data": {
      "text/plain": [
       "0.5125629767961003"
      ]
     },
     "execution_count": 133,
     "metadata": {},
     "output_type": "execute_result"
    }
   ],
   "source": [
    "from sklearn.datasets import load_diabetes\n",
    "from sklearn.linear_model import RidgeCV, Ridge\n",
    "X, y = load_diabetes(return_X_y=True)\n",
    "clf = RidgeCV(alphas=(1e-3, 1e-2, 1e-1, 1), cv=10).fit(X, y)\n",
    "clf.best_score_\n",
    "clf.score(X, y)"
   ]
  },
  {
   "cell_type": "code",
   "execution_count": 138,
   "metadata": {},
   "outputs": [
    {
     "data": {
      "text/plain": [
       "0.5125629767961003"
      ]
     },
     "execution_count": 138,
     "metadata": {},
     "output_type": "execute_result"
    },
    {
     "data": {
      "text/plain": [
       "{'alpha': 0.1}"
      ]
     },
     "execution_count": 138,
     "metadata": {},
     "output_type": "execute_result"
    },
    {
     "data": {
      "text/plain": [
       "Ridge(alpha=0.1)"
      ]
     },
     "execution_count": 138,
     "metadata": {},
     "output_type": "execute_result"
    }
   ],
   "source": [
    "from sklearn.model_selection import GridSearchCV\n",
    "gcv=GridSearchCV(Ridge(),  param_grid={'alpha': (1e-3, 1e-2, 1e-1, 1)}, cv=10).fit(X, y)\n",
    "gcv.score(X, y)\n",
    "gcv.best_params_\n",
    "gcv.best_estimator_"
   ]
  },
  {
   "cell_type": "code",
   "execution_count": 74,
   "metadata": {},
   "outputs": [
    {
     "data": {
      "text/plain": [
       "(1, 2, 1, 2)"
      ]
     },
     "execution_count": 74,
     "metadata": {},
     "output_type": "execute_result"
    },
    {
     "data": {
      "text/plain": [
       "(1, 2)"
      ]
     },
     "execution_count": 74,
     "metadata": {},
     "output_type": "execute_result"
    }
   ],
   "source": [
    "a=(1,2)\n",
    "b=(1,2)\n",
    "a+=b\n",
    "a \n",
    "b"
   ]
  },
  {
   "cell_type": "code",
   "execution_count": 96,
   "metadata": {},
   "outputs": [
    {
     "data": {
      "text/plain": [
       "{2, 3, 4}"
      ]
     },
     "execution_count": 96,
     "metadata": {},
     "output_type": "execute_result"
    },
    {
     "data": {
      "text/plain": [
       "{1, 2}"
      ]
     },
     "execution_count": 96,
     "metadata": {},
     "output_type": "execute_result"
    }
   ],
   "source": [
    "a={1,2,3,4}\n",
    "b={1,2}\n",
    "c={2}\n",
    "a-= b - c \n",
    "\n",
    "a \n",
    "b"
   ]
  },
  {
   "cell_type": "code",
   "execution_count": 98,
   "metadata": {},
   "outputs": [
    {
     "name": "stdout",
     "output_type": "stream",
     "text": [
      "100.0\n"
     ]
    }
   ],
   "source": [
    "print(round(100.000056, 0))"
   ]
  },
  {
   "cell_type": "code",
   "execution_count": 104,
   "metadata": {},
   "outputs": [
    {
     "data": {
      "text/plain": [
       "['fit_time', 'score_time', 'test_score']"
      ]
     },
     "execution_count": 104,
     "metadata": {},
     "output_type": "execute_result"
    },
    {
     "data": {
      "text/plain": [
       "array([0.33, 0.08, 0.04])"
      ]
     },
     "execution_count": 104,
     "metadata": {},
     "output_type": "execute_result"
    }
   ],
   "source": [
    "from sklearn import datasets, linear_model\n",
    "from sklearn.model_selection import cross_validate, cross_val_score, learning_curve\n",
    "from sklearn.metrics import make_scorer\n",
    "from sklearn.metrics import confusion_matrix\n",
    "from sklearn.svm import LinearSVC\n",
    "diabetes = datasets.load_diabetes()\n",
    "X = diabetes.data[:150]\n",
    "y = diabetes.target[:150]\n",
    "lasso = linear_model.Lasso()\n",
    "cv_results = cross_validate(lasso, X, y, cv=3)\n",
    "sorted(cv_results.keys())\n",
    "cv_results['test_score']"
   ]
  },
  {
   "cell_type": "code",
   "execution_count": 103,
   "metadata": {},
   "outputs": [
    {
     "data": {
      "text/plain": [
       "array([0.33, 0.08, 0.04])"
      ]
     },
     "execution_count": 103,
     "metadata": {},
     "output_type": "execute_result"
    }
   ],
   "source": [
    "cross_val_score(lasso, X, y, cv=3)"
   ]
  },
  {
   "cell_type": "code",
   "execution_count": 115,
   "metadata": {},
   "outputs": [
    {
     "data": {
      "text/plain": [
       "array([ 25,  50,  75, 100])"
      ]
     },
     "execution_count": 115,
     "metadata": {},
     "output_type": "execute_result"
    },
    {
     "data": {
      "text/plain": [
       "array([[0.13, 0.51, 0.51],\n",
       "       [0.01, 0.41, 0.41],\n",
       "       [0.15, 0.35, 0.29],\n",
       "       [0.28, 0.39, 0.23]])"
      ]
     },
     "execution_count": 115,
     "metadata": {},
     "output_type": "execute_result"
    },
    {
     "data": {
      "text/plain": [
       "array([[0.04, 0.13, 0.13],\n",
       "       [-0.04, 0.16, 0.24],\n",
       "       [0.21, 0.07, 0.09],\n",
       "       [0.33, 0.08, 0.04]])"
      ]
     },
     "execution_count": 115,
     "metadata": {},
     "output_type": "execute_result"
    }
   ],
   "source": [
    "train_sizes, train_scores,test_scores=learning_curve(estimator=lasso, X=X, y=y, train_sizes=(0.25, 0.5, 0.75,1), cv=3)\n",
    "train_sizes\n",
    "train_scores\n",
    "test_scores"
   ]
  },
  {
   "cell_type": "code",
   "execution_count": 111,
   "metadata": {},
   "outputs": [
    {
     "data": {
      "text/plain": [
       "(150, 10)"
      ]
     },
     "execution_count": 111,
     "metadata": {},
     "output_type": "execute_result"
    }
   ],
   "source": [
    "X.shape"
   ]
  },
  {
   "cell_type": "code",
   "execution_count": null,
   "metadata": {},
   "outputs": [],
   "source": []
  }
 ],
 "metadata": {
  "application/vnd.databricks.v1+notebook": {
   "dashboards": [],
   "language": "python",
   "notebookMetadata": {
    "pythonIndentUnit": 2
   },
   "notebookName": "doordelete",
   "notebookOrigID": 278194170979295,
   "widgets": {}
  },
  "kernelspec": {
   "display_name": "Python 3 (ipykernel)",
   "language": "python",
   "name": "python3"
  },
  "language_info": {
   "codemirror_mode": {
    "name": "ipython",
    "version": 3
   },
   "file_extension": ".py",
   "mimetype": "text/x-python",
   "name": "python",
   "nbconvert_exporter": "python",
   "pygments_lexer": "ipython3",
   "version": "3.8.8"
  },
  "toc": {
   "base_numbering": 1,
   "nav_menu": {},
   "number_sections": true,
   "sideBar": true,
   "skip_h1_title": false,
   "title_cell": "Table of Contents",
   "title_sidebar": "Contents",
   "toc_cell": false,
   "toc_position": {
    "height": "calc(100% - 180px)",
    "left": "10px",
    "top": "150px",
    "width": "189px"
   },
   "toc_section_display": true,
   "toc_window_display": true
  },
  "varInspector": {
   "cols": {
    "lenName": 16,
    "lenType": 16,
    "lenVar": 40
   },
   "kernels_config": {
    "python": {
     "delete_cmd_postfix": "",
     "delete_cmd_prefix": "del ",
     "library": "var_list.py",
     "varRefreshCmd": "print(var_dic_list())"
    },
    "r": {
     "delete_cmd_postfix": ") ",
     "delete_cmd_prefix": "rm(",
     "library": "var_list.r",
     "varRefreshCmd": "cat(var_dic_list()) "
    }
   },
   "types_to_exclude": [
    "module",
    "function",
    "builtin_function_or_method",
    "instance",
    "_Feature"
   ],
   "window_display": false
  }
 },
 "nbformat": 4,
 "nbformat_minor": 1
}
